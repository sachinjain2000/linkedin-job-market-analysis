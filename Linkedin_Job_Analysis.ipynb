{
 "cells": [
  {
   "cell_type": "markdown",
   "metadata": {},
   "source": [
    "**Name:  Sachin Jain**\n",
    "\n",
    "**NetID: SXJ230042**"
   ]
  },
  {
   "attachments": {},
   "cell_type": "markdown",
   "metadata": {},
   "source": [
    "**Question that I plan on answering:**\n",
    "\n",
    "**\"What are the various factors that influence the number of applications (dependent variable) on a linkedin job postings in United States?\"**"
   ]
  },
  {
   "cell_type": "markdown",
   "metadata": {},
   "source": [
    "## Step 1: Data Cleaning & Preprocessing for Models"
   ]
  },
  {
   "cell_type": "code",
   "execution_count": 1,
   "metadata": {
    "ExecuteTime": {
     "end_time": "2024-05-06T03:40:31.704995Z",
     "start_time": "2024-05-06T03:40:18.864330Z"
    },
    "execution": {
     "iopub.execute_input": "2024-04-28T19:14:20.491157Z",
     "iopub.status.busy": "2024-04-28T19:14:20.490742Z",
     "iopub.status.idle": "2024-04-28T19:14:20.496703Z",
     "shell.execute_reply": "2024-04-28T19:14:20.495860Z",
     "shell.execute_reply.started": "2024-04-28T19:14:20.491125Z"
    }
   },
   "outputs": [],
   "source": [
    "\n",
    "import numpy as np\n",
    "import pandas as pd\n",
    "import matplotlib.pyplot as plt\n",
    "import seaborn as sns\n",
    "import polars as pl\n",
    "import statsmodels.api as sm"
   ]
  },
  {
   "cell_type": "code",
   "execution_count": 2,
   "metadata": {
    "ExecuteTime": {
     "end_time": "2024-05-06T03:40:36.014897Z",
     "start_time": "2024-05-06T03:40:31.718984Z"
    },
    "execution": {
     "iopub.execute_input": "2024-04-28T19:14:20.499347Z",
     "iopub.status.busy": "2024-04-28T19:14:20.498275Z",
     "iopub.status.idle": "2024-04-28T19:14:23.035170Z",
     "shell.execute_reply": "2024-04-28T19:14:23.033883Z",
     "shell.execute_reply.started": "2024-04-28T19:14:20.499317Z"
    }
   },
   "outputs": [],
   "source": [
    "base_data = pd.read_csv('job_postings.csv')\n"
   ]
  },
  {
   "cell_type": "code",
   "execution_count": 3,
   "metadata": {
    "ExecuteTime": {
     "end_time": "2024-05-06T03:40:36.231959Z",
     "start_time": "2024-05-06T03:40:36.019890Z"
    },
    "execution": {
     "iopub.execute_input": "2024-04-28T19:14:23.037615Z",
     "iopub.status.busy": "2024-04-28T19:14:23.037253Z",
     "iopub.status.idle": "2024-04-28T19:14:23.078932Z",
     "shell.execute_reply": "2024-04-28T19:14:23.077546Z",
     "shell.execute_reply.started": "2024-04-28T19:14:23.037585Z"
    }
   },
   "outputs": [
    {
     "data": {
      "text/html": [
       "<div>\n",
       "<style scoped>\n",
       "    .dataframe tbody tr th:only-of-type {\n",
       "        vertical-align: middle;\n",
       "    }\n",
       "\n",
       "    .dataframe tbody tr th {\n",
       "        vertical-align: top;\n",
       "    }\n",
       "\n",
       "    .dataframe thead th {\n",
       "        text-align: right;\n",
       "    }\n",
       "</style>\n",
       "<table border=\"1\" class=\"dataframe\">\n",
       "  <thead>\n",
       "    <tr style=\"text-align: right;\">\n",
       "      <th></th>\n",
       "      <th>job_id</th>\n",
       "      <th>company_id</th>\n",
       "      <th>title</th>\n",
       "      <th>description</th>\n",
       "      <th>max_salary</th>\n",
       "      <th>med_salary</th>\n",
       "      <th>min_salary</th>\n",
       "      <th>pay_period</th>\n",
       "      <th>formatted_work_type</th>\n",
       "      <th>location</th>\n",
       "      <th>...</th>\n",
       "      <th>closed_time</th>\n",
       "      <th>formatted_experience_level</th>\n",
       "      <th>skills_desc</th>\n",
       "      <th>listed_time</th>\n",
       "      <th>posting_domain</th>\n",
       "      <th>sponsored</th>\n",
       "      <th>work_type</th>\n",
       "      <th>currency</th>\n",
       "      <th>compensation_type</th>\n",
       "      <th>scraped</th>\n",
       "    </tr>\n",
       "  </thead>\n",
       "  <tbody>\n",
       "    <tr>\n",
       "      <th>0</th>\n",
       "      <td>3757940104</td>\n",
       "      <td>553718.0</td>\n",
       "      <td>Hearing Care Provider</td>\n",
       "      <td>Overview\\n\\nHearingLife is a national hearing ...</td>\n",
       "      <td>NaN</td>\n",
       "      <td>5250.00</td>\n",
       "      <td>NaN</td>\n",
       "      <td>MONTHLY</td>\n",
       "      <td>Full-time</td>\n",
       "      <td>Little River, SC</td>\n",
       "      <td>...</td>\n",
       "      <td>NaN</td>\n",
       "      <td>Entry level</td>\n",
       "      <td>NaN</td>\n",
       "      <td>1.699090e+12</td>\n",
       "      <td>careers-demant.icims.com</td>\n",
       "      <td>0</td>\n",
       "      <td>FULL_TIME</td>\n",
       "      <td>USD</td>\n",
       "      <td>BASE_SALARY</td>\n",
       "      <td>1699138101</td>\n",
       "    </tr>\n",
       "    <tr>\n",
       "      <th>1</th>\n",
       "      <td>3757940025</td>\n",
       "      <td>2192142.0</td>\n",
       "      <td>Shipping &amp; Receiving Associate 2nd shift (Beav...</td>\n",
       "      <td>Metalcraft of Mayville\\nMetalcraft of Mayville...</td>\n",
       "      <td>NaN</td>\n",
       "      <td>NaN</td>\n",
       "      <td>NaN</td>\n",
       "      <td>NaN</td>\n",
       "      <td>Full-time</td>\n",
       "      <td>Beaver Dam, WI</td>\n",
       "      <td>...</td>\n",
       "      <td>NaN</td>\n",
       "      <td>NaN</td>\n",
       "      <td>NaN</td>\n",
       "      <td>1.699080e+12</td>\n",
       "      <td>www.click2apply.net</td>\n",
       "      <td>0</td>\n",
       "      <td>FULL_TIME</td>\n",
       "      <td>NaN</td>\n",
       "      <td>NaN</td>\n",
       "      <td>1699085420</td>\n",
       "    </tr>\n",
       "    <tr>\n",
       "      <th>2</th>\n",
       "      <td>3757938019</td>\n",
       "      <td>474443.0</td>\n",
       "      <td>Manager, Engineering</td>\n",
       "      <td>\\nThe TSUBAKI name is synonymous with excellen...</td>\n",
       "      <td>NaN</td>\n",
       "      <td>NaN</td>\n",
       "      <td>NaN</td>\n",
       "      <td>NaN</td>\n",
       "      <td>Full-time</td>\n",
       "      <td>Bessemer, AL</td>\n",
       "      <td>...</td>\n",
       "      <td>NaN</td>\n",
       "      <td>NaN</td>\n",
       "      <td>Bachelor's Degree in Mechanical Engineering pr...</td>\n",
       "      <td>1.699080e+12</td>\n",
       "      <td>www.click2apply.net</td>\n",
       "      <td>0</td>\n",
       "      <td>FULL_TIME</td>\n",
       "      <td>NaN</td>\n",
       "      <td>NaN</td>\n",
       "      <td>1699085644</td>\n",
       "    </tr>\n",
       "    <tr>\n",
       "      <th>3</th>\n",
       "      <td>3757938018</td>\n",
       "      <td>18213359.0</td>\n",
       "      <td>Cook</td>\n",
       "      <td>descriptionTitle\\n\\n Looking for a great oppor...</td>\n",
       "      <td>NaN</td>\n",
       "      <td>22.27</td>\n",
       "      <td>NaN</td>\n",
       "      <td>HOURLY</td>\n",
       "      <td>Full-time</td>\n",
       "      <td>Aliso Viejo, CA</td>\n",
       "      <td>...</td>\n",
       "      <td>NaN</td>\n",
       "      <td>Entry level</td>\n",
       "      <td>NaN</td>\n",
       "      <td>1.699080e+12</td>\n",
       "      <td>jobs.apploi.com</td>\n",
       "      <td>0</td>\n",
       "      <td>FULL_TIME</td>\n",
       "      <td>USD</td>\n",
       "      <td>BASE_SALARY</td>\n",
       "      <td>1699087461</td>\n",
       "    </tr>\n",
       "    <tr>\n",
       "      <th>4</th>\n",
       "      <td>3757937095</td>\n",
       "      <td>437225.0</td>\n",
       "      <td>Principal Cloud Security Architect (Remote)</td>\n",
       "      <td>Job Summary\\nAt iHerb, we are on a mission to ...</td>\n",
       "      <td>275834.0</td>\n",
       "      <td>NaN</td>\n",
       "      <td>205956.0</td>\n",
       "      <td>YEARLY</td>\n",
       "      <td>Full-time</td>\n",
       "      <td>United States</td>\n",
       "      <td>...</td>\n",
       "      <td>NaN</td>\n",
       "      <td>Mid-Senior level</td>\n",
       "      <td>NaN</td>\n",
       "      <td>1.699090e+12</td>\n",
       "      <td>careers.iherb.com</td>\n",
       "      <td>0</td>\n",
       "      <td>FULL_TIME</td>\n",
       "      <td>USD</td>\n",
       "      <td>BASE_SALARY</td>\n",
       "      <td>1699085346</td>\n",
       "    </tr>\n",
       "    <tr>\n",
       "      <th>5</th>\n",
       "      <td>3757937037</td>\n",
       "      <td>13727.0</td>\n",
       "      <td>Territory Manager - New Haven</td>\n",
       "      <td>Location: Remote, CT, United States of America...</td>\n",
       "      <td>NaN</td>\n",
       "      <td>NaN</td>\n",
       "      <td>NaN</td>\n",
       "      <td>NaN</td>\n",
       "      <td>Full-time</td>\n",
       "      <td>United States</td>\n",
       "      <td>...</td>\n",
       "      <td>1.700000e+12</td>\n",
       "      <td>Mid-Senior level</td>\n",
       "      <td>NaN</td>\n",
       "      <td>1.699080e+12</td>\n",
       "      <td>www.zoll.com</td>\n",
       "      <td>0</td>\n",
       "      <td>FULL_TIME</td>\n",
       "      <td>NaN</td>\n",
       "      <td>NaN</td>\n",
       "      <td>1699137801</td>\n",
       "    </tr>\n",
       "    <tr>\n",
       "      <th>6</th>\n",
       "      <td>3757937004</td>\n",
       "      <td>10515052.0</td>\n",
       "      <td>Auto Body Techncian</td>\n",
       "      <td>Company: Gerber Collision &amp; Glass\\n\\nWELCOME T...</td>\n",
       "      <td>NaN</td>\n",
       "      <td>NaN</td>\n",
       "      <td>NaN</td>\n",
       "      <td>NaN</td>\n",
       "      <td>Full-time</td>\n",
       "      <td>Daytona Beach, FL</td>\n",
       "      <td>...</td>\n",
       "      <td>NaN</td>\n",
       "      <td>Entry level</td>\n",
       "      <td>NaN</td>\n",
       "      <td>1.699080e+12</td>\n",
       "      <td>boydgroup.wd1.myworkdayjobs.com</td>\n",
       "      <td>0</td>\n",
       "      <td>FULL_TIME</td>\n",
       "      <td>NaN</td>\n",
       "      <td>NaN</td>\n",
       "      <td>1699089473</td>\n",
       "    </tr>\n",
       "    <tr>\n",
       "      <th>7</th>\n",
       "      <td>3757936167</td>\n",
       "      <td>2915.0</td>\n",
       "      <td>ACME D8- Asst Store Director (ASD) Sussex, NJ</td>\n",
       "      <td>The First Assistant Store Director is actively...</td>\n",
       "      <td>NaN</td>\n",
       "      <td>NaN</td>\n",
       "      <td>NaN</td>\n",
       "      <td>NaN</td>\n",
       "      <td>Full-time</td>\n",
       "      <td>Sussex, NJ</td>\n",
       "      <td>...</td>\n",
       "      <td>NaN</td>\n",
       "      <td>Mid-Senior level</td>\n",
       "      <td>NaN</td>\n",
       "      <td>1.699090e+12</td>\n",
       "      <td>eofd.fa.us6.oraclecloud.com</td>\n",
       "      <td>0</td>\n",
       "      <td>FULL_TIME</td>\n",
       "      <td>NaN</td>\n",
       "      <td>NaN</td>\n",
       "      <td>1699138852</td>\n",
       "    </tr>\n",
       "    <tr>\n",
       "      <th>8</th>\n",
       "      <td>3757936097</td>\n",
       "      <td>18213359.0</td>\n",
       "      <td>Dishwasher</td>\n",
       "      <td>descriptionTitle\\n\\n $2,000 Sign-on Bonus Guar...</td>\n",
       "      <td>NaN</td>\n",
       "      <td>19.30</td>\n",
       "      <td>NaN</td>\n",
       "      <td>HOURLY</td>\n",
       "      <td>Full-time</td>\n",
       "      <td>Aliso Viejo, CA</td>\n",
       "      <td>...</td>\n",
       "      <td>NaN</td>\n",
       "      <td>Entry level</td>\n",
       "      <td>NaN</td>\n",
       "      <td>1.699080e+12</td>\n",
       "      <td>jobs.apploi.com</td>\n",
       "      <td>0</td>\n",
       "      <td>FULL_TIME</td>\n",
       "      <td>USD</td>\n",
       "      <td>BASE_SALARY</td>\n",
       "      <td>1699089324</td>\n",
       "    </tr>\n",
       "    <tr>\n",
       "      <th>9</th>\n",
       "      <td>3757936026</td>\n",
       "      <td>634806.0</td>\n",
       "      <td>Instrumentation Quality Control Representative...</td>\n",
       "      <td>Instrumentation Quality Control Representative...</td>\n",
       "      <td>NaN</td>\n",
       "      <td>NaN</td>\n",
       "      <td>NaN</td>\n",
       "      <td>NaN</td>\n",
       "      <td>Contract</td>\n",
       "      <td>United States</td>\n",
       "      <td>...</td>\n",
       "      <td>NaN</td>\n",
       "      <td>Entry level</td>\n",
       "      <td>NaN</td>\n",
       "      <td>1.699130e+12</td>\n",
       "      <td>jobs.stsigroup.com</td>\n",
       "      <td>0</td>\n",
       "      <td>CONTRACT</td>\n",
       "      <td>NaN</td>\n",
       "      <td>NaN</td>\n",
       "      <td>1699137876</td>\n",
       "    </tr>\n",
       "    <tr>\n",
       "      <th>10</th>\n",
       "      <td>3757935384</td>\n",
       "      <td>232541.0</td>\n",
       "      <td>Power Utility Distribution Designer II (Remote)</td>\n",
       "      <td>\\nPower Utility Distribution Designer II (Remo...</td>\n",
       "      <td>NaN</td>\n",
       "      <td>NaN</td>\n",
       "      <td>NaN</td>\n",
       "      <td>NaN</td>\n",
       "      <td>Full-time</td>\n",
       "      <td>Hammond, IN</td>\n",
       "      <td>...</td>\n",
       "      <td>NaN</td>\n",
       "      <td>NaN</td>\n",
       "      <td>Education: HS Diploma or equivalent is require...</td>\n",
       "      <td>1.699090e+12</td>\n",
       "      <td>www.click2apply.net</td>\n",
       "      <td>0</td>\n",
       "      <td>FULL_TIME</td>\n",
       "      <td>NaN</td>\n",
       "      <td>NaN</td>\n",
       "      <td>1699086574</td>\n",
       "    </tr>\n",
       "    <tr>\n",
       "      <th>11</th>\n",
       "      <td>3757935381</td>\n",
       "      <td>19181907.0</td>\n",
       "      <td>Insights Analyst - Auto Industry</td>\n",
       "      <td>Who We Are\\n\\nEscalent is an award-winning dat...</td>\n",
       "      <td>64000.0</td>\n",
       "      <td>NaN</td>\n",
       "      <td>58000.0</td>\n",
       "      <td>YEARLY</td>\n",
       "      <td>Full-time</td>\n",
       "      <td>United States</td>\n",
       "      <td>...</td>\n",
       "      <td>1.700000e+12</td>\n",
       "      <td>Entry level</td>\n",
       "      <td>NaN</td>\n",
       "      <td>1.699090e+12</td>\n",
       "      <td>escalent.hrmdirect.com</td>\n",
       "      <td>0</td>\n",
       "      <td>FULL_TIME</td>\n",
       "      <td>USD</td>\n",
       "      <td>BASE_SALARY</td>\n",
       "      <td>1699134111</td>\n",
       "    </tr>\n",
       "    <tr>\n",
       "      <th>12</th>\n",
       "      <td>3757935111</td>\n",
       "      <td>2073870.0</td>\n",
       "      <td>Delivery Director (LLM Data Services)</td>\n",
       "      <td>About Appen\\n\\nAppen is a leader in AI enablem...</td>\n",
       "      <td>NaN</td>\n",
       "      <td>NaN</td>\n",
       "      <td>NaN</td>\n",
       "      <td>NaN</td>\n",
       "      <td>Full-time</td>\n",
       "      <td>Texas, United States</td>\n",
       "      <td>...</td>\n",
       "      <td>NaN</td>\n",
       "      <td>Director</td>\n",
       "      <td>NaN</td>\n",
       "      <td>1.699080e+12</td>\n",
       "      <td>jobs.lever.co</td>\n",
       "      <td>0</td>\n",
       "      <td>FULL_TIME</td>\n",
       "      <td>NaN</td>\n",
       "      <td>NaN</td>\n",
       "      <td>1699085644</td>\n",
       "    </tr>\n",
       "    <tr>\n",
       "      <th>13</th>\n",
       "      <td>3757935026</td>\n",
       "      <td>16223627.0</td>\n",
       "      <td>Nurse Practitioner</td>\n",
       "      <td>Adelphi is seeking a Nurse Practitioner to pro...</td>\n",
       "      <td>NaN</td>\n",
       "      <td>NaN</td>\n",
       "      <td>NaN</td>\n",
       "      <td>NaN</td>\n",
       "      <td>Contract</td>\n",
       "      <td>Toms River, NJ</td>\n",
       "      <td>...</td>\n",
       "      <td>NaN</td>\n",
       "      <td>NaN</td>\n",
       "      <td>NaN</td>\n",
       "      <td>1.699080e+12</td>\n",
       "      <td>recruit.zoho.com</td>\n",
       "      <td>0</td>\n",
       "      <td>CONTRACT</td>\n",
       "      <td>NaN</td>\n",
       "      <td>NaN</td>\n",
       "      <td>1699139453</td>\n",
       "    </tr>\n",
       "    <tr>\n",
       "      <th>14</th>\n",
       "      <td>3757935025</td>\n",
       "      <td>99500291.0</td>\n",
       "      <td>Associate Veterinarian</td>\n",
       "      <td>We are looking to hire an Associate Veterinari...</td>\n",
       "      <td>NaN</td>\n",
       "      <td>NaN</td>\n",
       "      <td>NaN</td>\n",
       "      <td>NaN</td>\n",
       "      <td>Full-time</td>\n",
       "      <td>St Clair Shores, Michigan, United States</td>\n",
       "      <td>...</td>\n",
       "      <td>NaN</td>\n",
       "      <td>Mid-Senior level</td>\n",
       "      <td>NaN</td>\n",
       "      <td>1.699080e+12</td>\n",
       "      <td>vetdocjobs.zohorecruit.com</td>\n",
       "      <td>0</td>\n",
       "      <td>FULL_TIME</td>\n",
       "      <td>NaN</td>\n",
       "      <td>NaN</td>\n",
       "      <td>1699131931</td>\n",
       "    </tr>\n",
       "    <tr>\n",
       "      <th>15</th>\n",
       "      <td>3757935012</td>\n",
       "      <td>18583501.0</td>\n",
       "      <td>Quantitative Trader [5048]</td>\n",
       "      <td>Quantitative traders research, develop, and re...</td>\n",
       "      <td>NaN</td>\n",
       "      <td>NaN</td>\n",
       "      <td>NaN</td>\n",
       "      <td>NaN</td>\n",
       "      <td>Full-time</td>\n",
       "      <td>New York, United States</td>\n",
       "      <td>...</td>\n",
       "      <td>NaN</td>\n",
       "      <td>Associate</td>\n",
       "      <td>NaN</td>\n",
       "      <td>1.699080e+12</td>\n",
       "      <td>NaN</td>\n",
       "      <td>0</td>\n",
       "      <td>FULL_TIME</td>\n",
       "      <td>NaN</td>\n",
       "      <td>NaN</td>\n",
       "      <td>1699135011</td>\n",
       "    </tr>\n",
       "    <tr>\n",
       "      <th>16</th>\n",
       "      <td>3757935011</td>\n",
       "      <td>82556159.0</td>\n",
       "      <td>Remote Vacation Planner</td>\n",
       "      <td>Full Job Description\\n\\nWe are focused on prov...</td>\n",
       "      <td>NaN</td>\n",
       "      <td>NaN</td>\n",
       "      <td>NaN</td>\n",
       "      <td>NaN</td>\n",
       "      <td>Full-time</td>\n",
       "      <td>Raleigh, NC</td>\n",
       "      <td>...</td>\n",
       "      <td>NaN</td>\n",
       "      <td>Entry level</td>\n",
       "      <td>NaN</td>\n",
       "      <td>1.699080e+12</td>\n",
       "      <td>newport.zohorecruit.com</td>\n",
       "      <td>0</td>\n",
       "      <td>FULL_TIME</td>\n",
       "      <td>NaN</td>\n",
       "      <td>NaN</td>\n",
       "      <td>1699084233</td>\n",
       "    </tr>\n",
       "    <tr>\n",
       "      <th>17</th>\n",
       "      <td>3757935010</td>\n",
       "      <td>82556159.0</td>\n",
       "      <td>Remote Vacation Planner</td>\n",
       "      <td>Full Job Description\\n\\nWe are focused on prov...</td>\n",
       "      <td>NaN</td>\n",
       "      <td>NaN</td>\n",
       "      <td>NaN</td>\n",
       "      <td>NaN</td>\n",
       "      <td>Full-time</td>\n",
       "      <td>Hartford, CT</td>\n",
       "      <td>...</td>\n",
       "      <td>NaN</td>\n",
       "      <td>Entry level</td>\n",
       "      <td>NaN</td>\n",
       "      <td>1.699080e+12</td>\n",
       "      <td>newport.zohorecruit.com</td>\n",
       "      <td>0</td>\n",
       "      <td>FULL_TIME</td>\n",
       "      <td>NaN</td>\n",
       "      <td>NaN</td>\n",
       "      <td>1699133054</td>\n",
       "    </tr>\n",
       "    <tr>\n",
       "      <th>18</th>\n",
       "      <td>3757935003</td>\n",
       "      <td>18583501.0</td>\n",
       "      <td>Continuous Manufacturing Expert - Pharmaceutic...</td>\n",
       "      <td>Position Overview: We are seeking an accomplis...</td>\n",
       "      <td>NaN</td>\n",
       "      <td>NaN</td>\n",
       "      <td>NaN</td>\n",
       "      <td>NaN</td>\n",
       "      <td>Full-time</td>\n",
       "      <td>Minden, NV</td>\n",
       "      <td>...</td>\n",
       "      <td>NaN</td>\n",
       "      <td>Mid-Senior level</td>\n",
       "      <td>NaN</td>\n",
       "      <td>1.699080e+12</td>\n",
       "      <td>NaN</td>\n",
       "      <td>0</td>\n",
       "      <td>FULL_TIME</td>\n",
       "      <td>NaN</td>\n",
       "      <td>NaN</td>\n",
       "      <td>1699084677</td>\n",
       "    </tr>\n",
       "    <tr>\n",
       "      <th>19</th>\n",
       "      <td>3757935001</td>\n",
       "      <td>73013724.0</td>\n",
       "      <td>Sales Manager</td>\n",
       "      <td>Position Summary: Our Sales Manager has managi...</td>\n",
       "      <td>350000.0</td>\n",
       "      <td>NaN</td>\n",
       "      <td>125000.0</td>\n",
       "      <td>YEARLY</td>\n",
       "      <td>Full-time</td>\n",
       "      <td>Coeur d'Alene, ID</td>\n",
       "      <td>...</td>\n",
       "      <td>NaN</td>\n",
       "      <td>Mid-Senior level</td>\n",
       "      <td>NaN</td>\n",
       "      <td>1.699080e+12</td>\n",
       "      <td>NaN</td>\n",
       "      <td>0</td>\n",
       "      <td>FULL_TIME</td>\n",
       "      <td>USD</td>\n",
       "      <td>BASE_SALARY</td>\n",
       "      <td>1699085940</td>\n",
       "    </tr>\n",
       "  </tbody>\n",
       "</table>\n",
       "<p>20 rows × 28 columns</p>\n",
       "</div>"
      ],
      "text/plain": [
       "        job_id  company_id                                              title  \\\n",
       "0   3757940104    553718.0                              Hearing Care Provider   \n",
       "1   3757940025   2192142.0  Shipping & Receiving Associate 2nd shift (Beav...   \n",
       "2   3757938019    474443.0                               Manager, Engineering   \n",
       "3   3757938018  18213359.0                                               Cook   \n",
       "4   3757937095    437225.0        Principal Cloud Security Architect (Remote)   \n",
       "5   3757937037     13727.0                      Territory Manager - New Haven   \n",
       "6   3757937004  10515052.0                                Auto Body Techncian   \n",
       "7   3757936167      2915.0      ACME D8- Asst Store Director (ASD) Sussex, NJ   \n",
       "8   3757936097  18213359.0                                         Dishwasher   \n",
       "9   3757936026    634806.0  Instrumentation Quality Control Representative...   \n",
       "10  3757935384    232541.0    Power Utility Distribution Designer II (Remote)   \n",
       "11  3757935381  19181907.0                   Insights Analyst - Auto Industry   \n",
       "12  3757935111   2073870.0              Delivery Director (LLM Data Services)   \n",
       "13  3757935026  16223627.0                                 Nurse Practitioner   \n",
       "14  3757935025  99500291.0                             Associate Veterinarian   \n",
       "15  3757935012  18583501.0                         Quantitative Trader [5048]   \n",
       "16  3757935011  82556159.0                            Remote Vacation Planner   \n",
       "17  3757935010  82556159.0                            Remote Vacation Planner   \n",
       "18  3757935003  18583501.0  Continuous Manufacturing Expert - Pharmaceutic...   \n",
       "19  3757935001  73013724.0                                      Sales Manager   \n",
       "\n",
       "                                          description  max_salary  med_salary  \\\n",
       "0   Overview\\n\\nHearingLife is a national hearing ...         NaN     5250.00   \n",
       "1   Metalcraft of Mayville\\nMetalcraft of Mayville...         NaN         NaN   \n",
       "2   \\nThe TSUBAKI name is synonymous with excellen...         NaN         NaN   \n",
       "3   descriptionTitle\\n\\n Looking for a great oppor...         NaN       22.27   \n",
       "4   Job Summary\\nAt iHerb, we are on a mission to ...    275834.0         NaN   \n",
       "5   Location: Remote, CT, United States of America...         NaN         NaN   \n",
       "6   Company: Gerber Collision & Glass\\n\\nWELCOME T...         NaN         NaN   \n",
       "7   The First Assistant Store Director is actively...         NaN         NaN   \n",
       "8   descriptionTitle\\n\\n $2,000 Sign-on Bonus Guar...         NaN       19.30   \n",
       "9   Instrumentation Quality Control Representative...         NaN         NaN   \n",
       "10  \\nPower Utility Distribution Designer II (Remo...         NaN         NaN   \n",
       "11  Who We Are\\n\\nEscalent is an award-winning dat...     64000.0         NaN   \n",
       "12  About Appen\\n\\nAppen is a leader in AI enablem...         NaN         NaN   \n",
       "13  Adelphi is seeking a Nurse Practitioner to pro...         NaN         NaN   \n",
       "14  We are looking to hire an Associate Veterinari...         NaN         NaN   \n",
       "15  Quantitative traders research, develop, and re...         NaN         NaN   \n",
       "16  Full Job Description\\n\\nWe are focused on prov...         NaN         NaN   \n",
       "17  Full Job Description\\n\\nWe are focused on prov...         NaN         NaN   \n",
       "18  Position Overview: We are seeking an accomplis...         NaN         NaN   \n",
       "19  Position Summary: Our Sales Manager has managi...    350000.0         NaN   \n",
       "\n",
       "    min_salary pay_period formatted_work_type  \\\n",
       "0          NaN    MONTHLY           Full-time   \n",
       "1          NaN        NaN           Full-time   \n",
       "2          NaN        NaN           Full-time   \n",
       "3          NaN     HOURLY           Full-time   \n",
       "4     205956.0     YEARLY           Full-time   \n",
       "5          NaN        NaN           Full-time   \n",
       "6          NaN        NaN           Full-time   \n",
       "7          NaN        NaN           Full-time   \n",
       "8          NaN     HOURLY           Full-time   \n",
       "9          NaN        NaN            Contract   \n",
       "10         NaN        NaN           Full-time   \n",
       "11     58000.0     YEARLY           Full-time   \n",
       "12         NaN        NaN           Full-time   \n",
       "13         NaN        NaN            Contract   \n",
       "14         NaN        NaN           Full-time   \n",
       "15         NaN        NaN           Full-time   \n",
       "16         NaN        NaN           Full-time   \n",
       "17         NaN        NaN           Full-time   \n",
       "18         NaN        NaN           Full-time   \n",
       "19    125000.0     YEARLY           Full-time   \n",
       "\n",
       "                                    location  ...   closed_time  \\\n",
       "0                           Little River, SC  ...           NaN   \n",
       "1                             Beaver Dam, WI  ...           NaN   \n",
       "2                               Bessemer, AL  ...           NaN   \n",
       "3                            Aliso Viejo, CA  ...           NaN   \n",
       "4                              United States  ...           NaN   \n",
       "5                              United States  ...  1.700000e+12   \n",
       "6                          Daytona Beach, FL  ...           NaN   \n",
       "7                                 Sussex, NJ  ...           NaN   \n",
       "8                            Aliso Viejo, CA  ...           NaN   \n",
       "9                              United States  ...           NaN   \n",
       "10                               Hammond, IN  ...           NaN   \n",
       "11                             United States  ...  1.700000e+12   \n",
       "12                      Texas, United States  ...           NaN   \n",
       "13                            Toms River, NJ  ...           NaN   \n",
       "14  St Clair Shores, Michigan, United States  ...           NaN   \n",
       "15                   New York, United States  ...           NaN   \n",
       "16                               Raleigh, NC  ...           NaN   \n",
       "17                              Hartford, CT  ...           NaN   \n",
       "18                                Minden, NV  ...           NaN   \n",
       "19                         Coeur d'Alene, ID  ...           NaN   \n",
       "\n",
       "    formatted_experience_level  \\\n",
       "0                  Entry level   \n",
       "1                          NaN   \n",
       "2                          NaN   \n",
       "3                  Entry level   \n",
       "4             Mid-Senior level   \n",
       "5             Mid-Senior level   \n",
       "6                  Entry level   \n",
       "7             Mid-Senior level   \n",
       "8                  Entry level   \n",
       "9                  Entry level   \n",
       "10                         NaN   \n",
       "11                 Entry level   \n",
       "12                    Director   \n",
       "13                         NaN   \n",
       "14            Mid-Senior level   \n",
       "15                   Associate   \n",
       "16                 Entry level   \n",
       "17                 Entry level   \n",
       "18            Mid-Senior level   \n",
       "19            Mid-Senior level   \n",
       "\n",
       "                                          skills_desc   listed_time  \\\n",
       "0                                                 NaN  1.699090e+12   \n",
       "1                                                 NaN  1.699080e+12   \n",
       "2   Bachelor's Degree in Mechanical Engineering pr...  1.699080e+12   \n",
       "3                                                 NaN  1.699080e+12   \n",
       "4                                                 NaN  1.699090e+12   \n",
       "5                                                 NaN  1.699080e+12   \n",
       "6                                                 NaN  1.699080e+12   \n",
       "7                                                 NaN  1.699090e+12   \n",
       "8                                                 NaN  1.699080e+12   \n",
       "9                                                 NaN  1.699130e+12   \n",
       "10  Education: HS Diploma or equivalent is require...  1.699090e+12   \n",
       "11                                                NaN  1.699090e+12   \n",
       "12                                                NaN  1.699080e+12   \n",
       "13                                                NaN  1.699080e+12   \n",
       "14                                                NaN  1.699080e+12   \n",
       "15                                                NaN  1.699080e+12   \n",
       "16                                                NaN  1.699080e+12   \n",
       "17                                                NaN  1.699080e+12   \n",
       "18                                                NaN  1.699080e+12   \n",
       "19                                                NaN  1.699080e+12   \n",
       "\n",
       "                     posting_domain sponsored  work_type  currency  \\\n",
       "0          careers-demant.icims.com         0  FULL_TIME       USD   \n",
       "1               www.click2apply.net         0  FULL_TIME       NaN   \n",
       "2               www.click2apply.net         0  FULL_TIME       NaN   \n",
       "3                   jobs.apploi.com         0  FULL_TIME       USD   \n",
       "4                 careers.iherb.com         0  FULL_TIME       USD   \n",
       "5                      www.zoll.com         0  FULL_TIME       NaN   \n",
       "6   boydgroup.wd1.myworkdayjobs.com         0  FULL_TIME       NaN   \n",
       "7       eofd.fa.us6.oraclecloud.com         0  FULL_TIME       NaN   \n",
       "8                   jobs.apploi.com         0  FULL_TIME       USD   \n",
       "9                jobs.stsigroup.com         0   CONTRACT       NaN   \n",
       "10              www.click2apply.net         0  FULL_TIME       NaN   \n",
       "11           escalent.hrmdirect.com         0  FULL_TIME       USD   \n",
       "12                    jobs.lever.co         0  FULL_TIME       NaN   \n",
       "13                 recruit.zoho.com         0   CONTRACT       NaN   \n",
       "14       vetdocjobs.zohorecruit.com         0  FULL_TIME       NaN   \n",
       "15                              NaN         0  FULL_TIME       NaN   \n",
       "16          newport.zohorecruit.com         0  FULL_TIME       NaN   \n",
       "17          newport.zohorecruit.com         0  FULL_TIME       NaN   \n",
       "18                              NaN         0  FULL_TIME       NaN   \n",
       "19                              NaN         0  FULL_TIME       USD   \n",
       "\n",
       "    compensation_type     scraped  \n",
       "0         BASE_SALARY  1699138101  \n",
       "1                 NaN  1699085420  \n",
       "2                 NaN  1699085644  \n",
       "3         BASE_SALARY  1699087461  \n",
       "4         BASE_SALARY  1699085346  \n",
       "5                 NaN  1699137801  \n",
       "6                 NaN  1699089473  \n",
       "7                 NaN  1699138852  \n",
       "8         BASE_SALARY  1699089324  \n",
       "9                 NaN  1699137876  \n",
       "10                NaN  1699086574  \n",
       "11        BASE_SALARY  1699134111  \n",
       "12                NaN  1699085644  \n",
       "13                NaN  1699139453  \n",
       "14                NaN  1699131931  \n",
       "15                NaN  1699135011  \n",
       "16                NaN  1699084233  \n",
       "17                NaN  1699133054  \n",
       "18                NaN  1699084677  \n",
       "19        BASE_SALARY  1699085940  \n",
       "\n",
       "[20 rows x 28 columns]"
      ]
     },
     "execution_count": 3,
     "metadata": {},
     "output_type": "execute_result"
    }
   ],
   "source": [
    "base_data.head(20)"
   ]
  },
  {
   "cell_type": "code",
   "execution_count": 4,
   "metadata": {
    "ExecuteTime": {
     "end_time": "2024-05-06T03:40:36.349091Z",
     "start_time": "2024-05-06T03:40:36.248950Z"
    },
    "execution": {
     "iopub.execute_input": "2024-04-28T19:14:23.081067Z",
     "iopub.status.busy": "2024-04-28T19:14:23.080442Z",
     "iopub.status.idle": "2024-04-28T19:14:23.120258Z",
     "shell.execute_reply": "2024-04-28T19:14:23.118931Z",
     "shell.execute_reply.started": "2024-04-28T19:14:23.081034Z"
    }
   },
   "outputs": [
    {
     "name": "stdout",
     "output_type": "stream",
     "text": [
      "[nan 'USD']\n",
      "['CONTRACT' 'FULL_TIME' 'OTHER' 'PART_TIME' 'VOLUNTEER' 'INTERNSHIP'\n",
      " 'TEMPORARY']\n",
      "[nan 'BASE_SALARY']\n",
      "['Contract' 'Full-time' 'Other' 'Part-time' 'Volunteer' 'Internship'\n",
      " 'Temporary']\n"
     ]
    }
   ],
   "source": [
    "# Removed unnecessary columns \n",
    "removed_column_data = base_data.drop(['job_posting_url', 'application_url', 'scraped', 'skills_desc', 'closed_time', 'med_salary'], axis=1)\n",
    "\n",
    "# Removing rows where 'applies' is NaN\n",
    "removed_column_data = removed_column_data.dropna(subset=['applies'])\n",
    "\n",
    "print(removed_column_data['currency'].unique())\n",
    "removed_column_data = removed_column_data.drop(['currency', 'posting_domain', 'original_listed_time', 'expiry', 'listed_time'], axis = 1)\n",
    "\n",
    "print(removed_column_data['work_type'].unique())\n",
    "print(removed_column_data['compensation_type'].unique())\n",
    "print(removed_column_data['formatted_work_type'].unique())\n",
    "\n",
    "removed_column_data = removed_column_data.drop(['compensation_type', 'description', 'company_id', 'formatted_work_type'], axis = 1)"
   ]
  },
  {
   "cell_type": "code",
   "execution_count": 5,
   "metadata": {
    "ExecuteTime": {
     "end_time": "2024-05-06T03:40:36.380084Z",
     "start_time": "2024-05-06T03:40:36.355086Z"
    },
    "execution": {
     "iopub.execute_input": "2024-04-28T19:14:23.123780Z",
     "iopub.status.busy": "2024-04-28T19:14:23.123250Z",
     "iopub.status.idle": "2024-04-28T19:14:23.138390Z",
     "shell.execute_reply": "2024-04-28T19:14:23.137375Z",
     "shell.execute_reply.started": "2024-04-28T19:14:23.123748Z"
    }
   },
   "outputs": [],
   "source": [
    "# Drop rows where either min_salary or max_salary is null\n",
    "df = base_data.dropna(subset=['min_salary', 'max_salary'])"
   ]
  },
  {
   "cell_type": "code",
   "execution_count": 6,
   "metadata": {
    "ExecuteTime": {
     "end_time": "2024-05-06T03:40:36.402071Z",
     "start_time": "2024-05-06T03:40:36.386074Z"
    },
    "execution": {
     "iopub.execute_input": "2024-04-28T19:14:23.140716Z",
     "iopub.status.busy": "2024-04-28T19:14:23.139877Z",
     "iopub.status.idle": "2024-04-28T19:14:23.149123Z",
     "shell.execute_reply": "2024-04-28T19:14:23.147574Z",
     "shell.execute_reply.started": "2024-04-28T19:14:23.140684Z"
    }
   },
   "outputs": [
    {
     "data": {
      "text/plain": [
       "(11111, 28)"
      ]
     },
     "execution_count": 6,
     "metadata": {},
     "output_type": "execute_result"
    }
   ],
   "source": [
    "df.shape"
   ]
  },
  {
   "cell_type": "code",
   "execution_count": 7,
   "metadata": {
    "ExecuteTime": {
     "end_time": "2024-05-06T03:40:36.548809Z",
     "start_time": "2024-05-06T03:40:36.444044Z"
    },
    "execution": {
     "iopub.execute_input": "2024-04-28T19:14:23.152365Z",
     "iopub.status.busy": "2024-04-28T19:14:23.151020Z",
     "iopub.status.idle": "2024-04-28T19:14:23.176092Z",
     "shell.execute_reply": "2024-04-28T19:14:23.174667Z",
     "shell.execute_reply.started": "2024-04-28T19:14:23.152325Z"
    }
   },
   "outputs": [
    {
     "name": "stdout",
     "output_type": "stream",
     "text": [
      "       min_salary  max_salary\n",
      "4        205956.0    275834.0\n",
      "11        58000.0     64000.0\n",
      "19       125000.0    350000.0\n",
      "24           20.0        30.0\n",
      "27       121000.0    150000.0\n",
      "...           ...         ...\n",
      "33227        18.0        20.0\n",
      "33233        50.0        50.0\n",
      "33236     37000.0     42000.0\n",
      "33244     45760.0     52000.0\n",
      "33245     35000.0     80000.0\n",
      "\n",
      "[11111 rows x 2 columns]\n"
     ]
    }
   ],
   "source": [
    "# Drop rows where either min_salary or max_salary is null\n",
    "df = base_data.dropna(subset=['min_salary', 'max_salary'])\n",
    "\n",
    "# Select only the min_salary and max_salary columns\n",
    "df = df[['min_salary', 'max_salary']]\n",
    "\n",
    "# Print the DataFrame\n",
    "print(df)"
   ]
  },
  {
   "cell_type": "code",
   "execution_count": 8,
   "metadata": {
    "ExecuteTime": {
     "end_time": "2024-05-06T03:40:37.361724Z",
     "start_time": "2024-05-06T03:40:36.557313Z"
    },
    "execution": {
     "iopub.execute_input": "2024-04-28T19:14:23.178178Z",
     "iopub.status.busy": "2024-04-28T19:14:23.177797Z",
     "iopub.status.idle": "2024-04-28T19:14:23.484257Z",
     "shell.execute_reply": "2024-04-28T19:14:23.482867Z",
     "shell.execute_reply.started": "2024-04-28T19:14:23.178147Z"
    }
   },
   "outputs": [],
   "source": [
    "# Drop rows where either pay_period, min_salary or max_salary is null or 'NaN'\n",
    "base_data = base_data[(base_data['pay_period'].notna() & (base_data['pay_period'] != 'NaN')) &\n",
    "                      (base_data['min_salary'].notna() & (base_data['min_salary'] != 'NaN')) &\n",
    "                      (base_data['max_salary'].notna() & (base_data['max_salary'] != 'NaN'))]\n",
    "\n",
    "# Define the conversion factors\n",
    "conversion_factors = {\n",
    "    'YEARLY': 2080,  # Assuming a 40-hour work week\n",
    "    'MONTHLY': 2080/12,\n",
    "    'WEEKLY': 40,\n",
    "    'DAILY': 8,\n",
    "    'HOURLY': 1,\n",
    "}\n",
    "\n",
    "# Convert the salary columns to hourly values\n",
    "base_data['min_salary'] = base_data.apply(lambda row: row['min_salary'] / conversion_factors.get(row['pay_period'], 1), axis=1)\n",
    "base_data['max_salary'] = base_data.apply(lambda row: row['max_salary'] / conversion_factors.get(row['pay_period'], 1), axis=1)"
   ]
  },
  {
   "cell_type": "code",
   "execution_count": 9,
   "metadata": {
    "ExecuteTime": {
     "end_time": "2024-05-06T03:40:37.378731Z",
     "start_time": "2024-05-06T03:40:37.366706Z"
    },
    "execution": {
     "iopub.execute_input": "2024-04-28T19:14:23.486657Z",
     "iopub.status.busy": "2024-04-28T19:14:23.486166Z",
     "iopub.status.idle": "2024-04-28T19:14:23.494153Z",
     "shell.execute_reply": "2024-04-28T19:14:23.492636Z",
     "shell.execute_reply.started": "2024-04-28T19:14:23.486605Z"
    }
   },
   "outputs": [
    {
     "name": "stdout",
     "output_type": "stream",
     "text": [
      "The number of rows in the DataFrame is 11111.\n"
     ]
    }
   ],
   "source": [
    "# Print the number of rows in the DataFrame\n",
    "num_rows = base_data.shape[0]\n",
    "print(f\"The number of rows in the DataFrame is {num_rows}.\")"
   ]
  },
  {
   "cell_type": "code",
   "execution_count": 10,
   "metadata": {
    "ExecuteTime": {
     "end_time": "2024-05-06T03:40:37.436448Z",
     "start_time": "2024-05-06T03:40:37.402819Z"
    },
    "execution": {
     "iopub.execute_input": "2024-04-28T19:14:23.495982Z",
     "iopub.status.busy": "2024-04-28T19:14:23.495649Z",
     "iopub.status.idle": "2024-04-28T19:14:23.512144Z",
     "shell.execute_reply": "2024-04-28T19:14:23.510844Z",
     "shell.execute_reply.started": "2024-04-28T19:14:23.495954Z"
    }
   },
   "outputs": [],
   "source": [
    "# Remove rows where pay_period is 'ONCE'\n",
    "base_data = base_data[base_data['pay_period'] != 'ONCE']"
   ]
  },
  {
   "cell_type": "code",
   "execution_count": 11,
   "metadata": {
    "ExecuteTime": {
     "end_time": "2024-05-06T03:40:37.508686Z",
     "start_time": "2024-05-06T03:40:37.444440Z"
    },
    "execution": {
     "iopub.execute_input": "2024-04-28T19:14:23.516558Z",
     "iopub.status.busy": "2024-04-28T19:14:23.516187Z",
     "iopub.status.idle": "2024-04-28T19:14:23.526891Z",
     "shell.execute_reply": "2024-04-28T19:14:23.525710Z",
     "shell.execute_reply.started": "2024-04-28T19:14:23.516530Z"
    }
   },
   "outputs": [],
   "source": [
    "# Remove the specified columns\n",
    "base_data = base_data.drop(['currency', 'posting_domain', 'original_listed_time', 'expiry', 'listed_time'], axis = 1)"
   ]
  },
  {
   "cell_type": "code",
   "execution_count": 12,
   "metadata": {
    "ExecuteTime": {
     "end_time": "2024-05-06T03:40:37.540713Z",
     "start_time": "2024-05-06T03:40:37.521669Z"
    },
    "execution": {
     "iopub.execute_input": "2024-04-28T19:14:23.529033Z",
     "iopub.status.busy": "2024-04-28T19:14:23.528565Z",
     "iopub.status.idle": "2024-04-28T19:14:23.539978Z",
     "shell.execute_reply": "2024-04-28T19:14:23.538730Z",
     "shell.execute_reply.started": "2024-04-28T19:14:23.528996Z"
    }
   },
   "outputs": [],
   "source": [
    "# Removed unnecessary columns\n",
    "removed_column_data = base_data.drop(['job_posting_url', 'application_url', 'scraped', 'skills_desc', 'closed_time', 'med_salary'], axis=1)"
   ]
  },
  {
   "cell_type": "code",
   "execution_count": 13,
   "metadata": {
    "ExecuteTime": {
     "end_time": "2024-05-06T03:40:37.623169Z",
     "start_time": "2024-05-06T03:40:37.597937Z"
    },
    "execution": {
     "iopub.execute_input": "2024-04-28T19:14:23.541920Z",
     "iopub.status.busy": "2024-04-28T19:14:23.541619Z",
     "iopub.status.idle": "2024-04-28T19:14:23.554123Z",
     "shell.execute_reply": "2024-04-28T19:14:23.552901Z",
     "shell.execute_reply.started": "2024-04-28T19:14:23.541896Z"
    }
   },
   "outputs": [],
   "source": [
    "# Removing rows where 'applies' is NaN\n",
    "removed_column_data = removed_column_data.dropna(subset=['applies'])\n"
   ]
  },
  {
   "cell_type": "code",
   "execution_count": 14,
   "metadata": {
    "ExecuteTime": {
     "end_time": "2024-05-06T03:40:37.711344Z",
     "start_time": "2024-05-06T03:40:37.638161Z"
    },
    "execution": {
     "iopub.execute_input": "2024-04-28T19:14:23.555461Z",
     "iopub.status.busy": "2024-04-28T19:14:23.555137Z",
     "iopub.status.idle": "2024-04-28T19:14:23.564292Z",
     "shell.execute_reply": "2024-04-28T19:14:23.563175Z",
     "shell.execute_reply.started": "2024-04-28T19:14:23.555417Z"
    }
   },
   "outputs": [
    {
     "data": {
      "text/plain": [
       "(6600, 17)"
      ]
     },
     "execution_count": 14,
     "metadata": {},
     "output_type": "execute_result"
    }
   ],
   "source": [
    "removed_column_data.shape"
   ]
  },
  {
   "cell_type": "code",
   "execution_count": 15,
   "metadata": {
    "ExecuteTime": {
     "end_time": "2024-05-06T03:40:37.731333Z",
     "start_time": "2024-05-06T03:40:37.718342Z"
    },
    "execution": {
     "iopub.execute_input": "2024-04-28T19:14:23.566611Z",
     "iopub.status.busy": "2024-04-28T19:14:23.566189Z",
     "iopub.status.idle": "2024-04-28T19:14:23.578560Z",
     "shell.execute_reply": "2024-04-28T19:14:23.576967Z",
     "shell.execute_reply.started": "2024-04-28T19:14:23.566570Z"
    }
   },
   "outputs": [],
   "source": [
    "removed_column_data = removed_column_data.drop(['compensation_type', 'description', 'company_id', 'formatted_work_type'], axis = 1)"
   ]
  },
  {
   "cell_type": "code",
   "execution_count": 16,
   "metadata": {
    "ExecuteTime": {
     "end_time": "2024-05-06T03:40:37.752322Z",
     "start_time": "2024-05-06T03:40:37.737331Z"
    },
    "execution": {
     "iopub.execute_input": "2024-04-28T19:14:23.581122Z",
     "iopub.status.busy": "2024-04-28T19:14:23.580608Z",
     "iopub.status.idle": "2024-04-28T19:14:23.589200Z",
     "shell.execute_reply": "2024-04-28T19:14:23.588207Z",
     "shell.execute_reply.started": "2024-04-28T19:14:23.581080Z"
    }
   },
   "outputs": [],
   "source": [
    "removed_column_data = removed_column_data.drop(['formatted_experience_level'], axis = 1)"
   ]
  },
  {
   "cell_type": "code",
   "execution_count": 17,
   "metadata": {
    "ExecuteTime": {
     "end_time": "2024-05-06T03:40:37.834370Z",
     "start_time": "2024-05-06T03:40:37.814814Z"
    },
    "execution": {
     "iopub.execute_input": "2024-04-28T19:14:23.591020Z",
     "iopub.status.busy": "2024-04-28T19:14:23.590262Z",
     "iopub.status.idle": "2024-04-28T19:14:23.607490Z",
     "shell.execute_reply": "2024-04-28T19:14:23.606617Z",
     "shell.execute_reply.started": "2024-04-28T19:14:23.590945Z"
    }
   },
   "outputs": [],
   "source": [
    "removed_column_data['pay_period'] = removed_column_data['pay_period'].fillna('NOT MENTIONED')\n",
    "removed_column_data['remote_allowed'] = removed_column_data['remote_allowed'].fillna(0).astype(int)"
   ]
  },
  {
   "cell_type": "code",
   "execution_count": 18,
   "metadata": {
    "ExecuteTime": {
     "end_time": "2024-05-06T03:40:37.860866Z",
     "start_time": "2024-05-06T03:40:37.843361Z"
    },
    "execution": {
     "iopub.execute_input": "2024-04-28T19:14:23.610341Z",
     "iopub.status.busy": "2024-04-28T19:14:23.609140Z",
     "iopub.status.idle": "2024-04-28T19:14:23.620179Z",
     "shell.execute_reply": "2024-04-28T19:14:23.618775Z",
     "shell.execute_reply.started": "2024-04-28T19:14:23.610311Z"
    }
   },
   "outputs": [],
   "source": [
    "pay_period_dummies = pd.get_dummies(removed_column_data['pay_period'], prefix='pay_period')\n",
    "dataset = pd.concat([removed_column_data, pay_period_dummies], axis=1)"
   ]
  },
  {
   "cell_type": "code",
   "execution_count": 19,
   "metadata": {
    "ExecuteTime": {
     "end_time": "2024-05-06T03:40:37.912866Z",
     "start_time": "2024-05-06T03:40:37.901354Z"
    },
    "execution": {
     "iopub.execute_input": "2024-04-28T19:14:23.623785Z",
     "iopub.status.busy": "2024-04-28T19:14:23.623324Z",
     "iopub.status.idle": "2024-04-28T19:14:23.631355Z",
     "shell.execute_reply": "2024-04-28T19:14:23.629553Z",
     "shell.execute_reply.started": "2024-04-28T19:14:23.623744Z"
    }
   },
   "outputs": [],
   "source": [
    "dataset['views'] = dataset['views'].fillna(0)"
   ]
  },
  {
   "cell_type": "code",
   "execution_count": 20,
   "metadata": {
    "ExecuteTime": {
     "end_time": "2024-05-06T03:40:37.933149Z",
     "start_time": "2024-05-06T03:40:37.918859Z"
    },
    "execution": {
     "iopub.execute_input": "2024-04-28T19:14:23.633955Z",
     "iopub.status.busy": "2024-04-28T19:14:23.633523Z",
     "iopub.status.idle": "2024-04-28T19:14:23.644245Z",
     "shell.execute_reply": "2024-04-28T19:14:23.642960Z",
     "shell.execute_reply.started": "2024-04-28T19:14:23.633917Z"
    }
   },
   "outputs": [
    {
     "name": "stdout",
     "output_type": "stream",
     "text": [
      "['FULL_TIME' 'PART_TIME' 'CONTRACT' 'TEMPORARY' 'INTERNSHIP' 'OTHER']\n"
     ]
    }
   ],
   "source": [
    "print(dataset['work_type'].unique())"
   ]
  },
  {
   "cell_type": "code",
   "execution_count": 21,
   "metadata": {
    "ExecuteTime": {
     "end_time": "2024-05-06T03:40:37.998885Z",
     "start_time": "2024-05-06T03:40:37.939140Z"
    },
    "execution": {
     "iopub.execute_input": "2024-04-28T19:14:23.647666Z",
     "iopub.status.busy": "2024-04-28T19:14:23.646644Z",
     "iopub.status.idle": "2024-04-28T19:14:23.658322Z",
     "shell.execute_reply": "2024-04-28T19:14:23.656924Z",
     "shell.execute_reply.started": "2024-04-28T19:14:23.647629Z"
    }
   },
   "outputs": [],
   "source": [
    "work_type_dummies = pd.get_dummies(dataset['work_type'], prefix='work_type')\n",
    "dataset = pd.concat([dataset, work_type_dummies], axis=1)"
   ]
  },
  {
   "cell_type": "code",
   "execution_count": 22,
   "metadata": {
    "ExecuteTime": {
     "end_time": "2024-05-06T03:40:38.017023Z",
     "start_time": "2024-05-06T03:40:38.004875Z"
    },
    "execution": {
     "iopub.execute_input": "2024-04-28T19:14:23.660622Z",
     "iopub.status.busy": "2024-04-28T19:14:23.659970Z",
     "iopub.status.idle": "2024-04-28T19:14:23.666192Z",
     "shell.execute_reply": "2024-04-28T19:14:23.665406Z",
     "shell.execute_reply.started": "2024-04-28T19:14:23.660592Z"
    }
   },
   "outputs": [
    {
     "data": {
      "text/plain": [
       "(6600, 22)"
      ]
     },
     "execution_count": 22,
     "metadata": {},
     "output_type": "execute_result"
    }
   ],
   "source": [
    "dataset.shape"
   ]
  },
  {
   "cell_type": "code",
   "execution_count": 23,
   "metadata": {
    "ExecuteTime": {
     "end_time": "2024-05-06T03:40:38.040999Z",
     "start_time": "2024-05-06T03:40:38.026006Z"
    },
    "execution": {
     "iopub.execute_input": "2024-04-28T19:14:23.667708Z",
     "iopub.status.busy": "2024-04-28T19:14:23.667348Z",
     "iopub.status.idle": "2024-04-28T19:14:23.677281Z",
     "shell.execute_reply": "2024-04-28T19:14:23.676294Z",
     "shell.execute_reply.started": "2024-04-28T19:14:23.667681Z"
    }
   },
   "outputs": [
    {
     "name": "stdout",
     "output_type": "stream",
     "text": [
      "['OffsiteApply' 'ComplexOnsiteApply' 'SimpleOnsiteApply']\n"
     ]
    }
   ],
   "source": [
    "print(dataset['application_type'].unique())"
   ]
  },
  {
   "cell_type": "code",
   "execution_count": 24,
   "metadata": {
    "ExecuteTime": {
     "end_time": "2024-05-06T03:40:38.082974Z",
     "start_time": "2024-05-06T03:40:38.063984Z"
    },
    "execution": {
     "iopub.execute_input": "2024-04-28T19:14:23.679972Z",
     "iopub.status.busy": "2024-04-28T19:14:23.678970Z",
     "iopub.status.idle": "2024-04-28T19:14:23.690107Z",
     "shell.execute_reply": "2024-04-28T19:14:23.689040Z",
     "shell.execute_reply.started": "2024-04-28T19:14:23.679943Z"
    }
   },
   "outputs": [],
   "source": [
    "application_type_dummies = pd.get_dummies(dataset['application_type'], prefix='application_type')\n",
    "dataset = pd.concat([dataset, application_type_dummies], axis=1)"
   ]
  },
  {
   "cell_type": "code",
   "execution_count": 25,
   "metadata": {
    "ExecuteTime": {
     "end_time": "2024-05-06T03:40:38.137017Z",
     "start_time": "2024-05-06T03:40:38.091967Z"
    },
    "execution": {
     "iopub.execute_input": "2024-04-28T19:14:23.692737Z",
     "iopub.status.busy": "2024-04-28T19:14:23.691860Z",
     "iopub.status.idle": "2024-04-28T19:14:23.706764Z",
     "shell.execute_reply": "2024-04-28T19:14:23.705278Z",
     "shell.execute_reply.started": "2024-04-28T19:14:23.692699Z"
    }
   },
   "outputs": [
    {
     "name": "stdout",
     "output_type": "stream",
     "text": [
      "Total number of rows with 'Unknown' as location: 642\n"
     ]
    }
   ],
   "source": [
    "dataset.loc[dataset['location'].str.lower() == 'united states', 'location'] = 'Unknown'\n",
    "total_unknown = (dataset['location'] == 'Unknown').sum()\n",
    "print(\"Total number of rows with 'Unknown' as location:\", total_unknown)\n"
   ]
  },
  {
   "cell_type": "code",
   "execution_count": 26,
   "metadata": {
    "ExecuteTime": {
     "end_time": "2024-05-06T03:40:38.423864Z",
     "start_time": "2024-05-06T03:40:38.145006Z"
    },
    "execution": {
     "iopub.execute_input": "2024-04-28T19:14:23.709780Z",
     "iopub.status.busy": "2024-04-28T19:14:23.708777Z",
     "iopub.status.idle": "2024-04-28T19:14:23.764530Z",
     "shell.execute_reply": "2024-04-28T19:14:23.763414Z",
     "shell.execute_reply.started": "2024-04-28T19:14:23.709740Z"
    }
   },
   "outputs": [],
   "source": [
    "dataset.loc[dataset['location'].str.contains('San Francisco', case=False, na=False), 'location'] += ', CA'\n",
    "dataset.loc[dataset['location'].str.contains('Los Angeles', case=False, na=False), 'location'] += ', CA'\n",
    "dataset.loc[dataset['location'].str.contains('New York', case=False, na=False), 'location'] += ', NY'\n",
    "dataset.loc[dataset['location'].str.contains('Phoenix', case=False, na=False), 'location'] += ', AZ'\n",
    "dataset.loc[dataset['location'].str.contains('Louisville', case=False, na=False), 'location'] += ', KY'\n",
    "dataset.loc[dataset['location'].str.contains('Sacramento', case=False, na=False), 'location'] += ', CA'\n",
    "dataset.loc[dataset['location'].str.contains('Baltimore', case=False, na=False), 'location'] += ', MD'\n",
    "dataset.loc[dataset['location'].str.contains('titusville', case=False, na=False), 'location'] += ', FL'\n"
   ]
  },
  {
   "cell_type": "code",
   "execution_count": 27,
   "metadata": {
    "ExecuteTime": {
     "end_time": "2024-05-06T03:40:38.479726Z",
     "start_time": "2024-05-06T03:40:38.429860Z"
    },
    "execution": {
     "iopub.execute_input": "2024-04-28T19:14:23.766090Z",
     "iopub.status.busy": "2024-04-28T19:14:23.765777Z",
     "iopub.status.idle": "2024-04-28T19:14:23.780516Z",
     "shell.execute_reply": "2024-04-28T19:14:23.778968Z",
     "shell.execute_reply.started": "2024-04-28T19:14:23.766064Z"
    }
   },
   "outputs": [],
   "source": [
    "def remove_extra_commas(text):\n",
    "    parts = text.rsplit(',', 1)\n",
    "    if len(parts) == 2: \n",
    "        return parts[0].replace(',', '') + ',' + parts[1]\n",
    "    else:\n",
    "        return text\n",
    "\n",
    "dataset['location'] = dataset['location'].apply(remove_extra_commas)"
   ]
  },
  {
   "cell_type": "code",
   "execution_count": 28,
   "metadata": {
    "ExecuteTime": {
     "end_time": "2024-05-06T03:40:38.753554Z",
     "start_time": "2024-05-06T03:40:38.521556Z"
    },
    "execution": {
     "iopub.execute_input": "2024-04-28T19:14:23.783227Z",
     "iopub.status.busy": "2024-04-28T19:14:23.782217Z",
     "iopub.status.idle": "2024-04-28T19:14:23.857307Z",
     "shell.execute_reply": "2024-04-28T19:14:23.856173Z",
     "shell.execute_reply.started": "2024-04-28T19:14:23.783183Z"
    }
   },
   "outputs": [
    {
     "name": "stdout",
     "output_type": "stream",
     "text": [
      "['South' 'Northeast' 'Southwest' 'Mountain' 'Mid-Atlantic' 'Unknown'\n",
      " 'Midwest' 'Pacific Northwest' 'Central Plains']\n"
     ]
    }
   ],
   "source": [
    "state_to_region = {\n",
    "    'AK': 'Pacific Northwest', 'WA': 'Pacific Northwest', 'OR': 'Pacific Northwest',\n",
    "    'CA': 'Southwest', 'NV': 'Southwest', 'AZ': 'Southwest',\n",
    "    'ID': 'Mountain', 'MT': 'Mountain', 'WY': 'Mountain', 'UT': 'Mountain', \n",
    "    'CO': 'Mountain', 'NM': 'Mountain',\n",
    "    'ND': 'Central Plains', 'SD': 'Central Plains', 'NE': 'Central Plains', \n",
    "    'KS': 'Central Plains', 'OK': 'Central Plains',\n",
    "    'MN': 'Midwest', 'IA': 'Midwest', 'MO': 'Midwest', 'WI': 'Midwest', \n",
    "    'IL': 'Midwest', 'IN': 'Midwest', 'MI': 'Midwest',\n",
    "    'ME': 'Northeast', 'NH': 'Northeast', 'VT': 'Northeast', 'MA': 'Northeast', \n",
    "    'RI': 'Northeast', 'CT': 'Northeast', 'NY': 'Northeast', 'NJ': 'Northeast', 'PA': 'Northeast',\n",
    "    'DE': 'Mid-Atlantic', 'MD': 'Mid-Atlantic', 'VA': 'Mid-Atlantic', \n",
    "    'WV': 'Mid-Atlantic', 'NC': 'Mid-Atlantic',\n",
    "    'SC': 'South', 'GA': 'South', 'FL': 'South', 'AL': 'South', \n",
    "    'MS': 'South', 'TN': 'South', 'KY': 'South', 'AR': 'South', 'LA': 'South', 'TX': 'South'\n",
    "}\n",
    "\n",
    "def update_location(row):\n",
    "    try:\n",
    "        city, state_abbr = row['location'].split(', ')\n",
    "        region = state_to_region.get(state_abbr, 'Unknown')  # Default to 'Unknown' if not found\n",
    "    except ValueError:\n",
    "        region = 'Unknown'\n",
    "    return region\n",
    "\n",
    "dataset['location'] = dataset.apply(update_location, axis=1)\n",
    "\n",
    "print(dataset['location'].unique())\n"
   ]
  },
  {
   "cell_type": "code",
   "execution_count": 29,
   "metadata": {
    "ExecuteTime": {
     "end_time": "2024-05-06T03:40:38.777147Z",
     "start_time": "2024-05-06T03:40:38.760547Z"
    },
    "execution": {
     "iopub.execute_input": "2024-04-28T19:14:23.863204Z",
     "iopub.status.busy": "2024-04-28T19:14:23.862384Z",
     "iopub.status.idle": "2024-04-28T19:14:23.872400Z",
     "shell.execute_reply": "2024-04-28T19:14:23.871337Z",
     "shell.execute_reply.started": "2024-04-28T19:14:23.863171Z"
    }
   },
   "outputs": [],
   "source": [
    "location_dummies = pd.get_dummies(dataset['location'], prefix='location')\n",
    "dataset = pd.concat([dataset, location_dummies], axis=1)"
   ]
  },
  {
   "cell_type": "code",
   "execution_count": 30,
   "metadata": {
    "ExecuteTime": {
     "end_time": "2024-05-06T03:40:38.823638Z",
     "start_time": "2024-05-06T03:40:38.786138Z"
    },
    "execution": {
     "iopub.execute_input": "2024-04-28T19:14:23.875062Z",
     "iopub.status.busy": "2024-04-28T19:14:23.873838Z",
     "iopub.status.idle": "2024-04-28T19:14:23.881753Z",
     "shell.execute_reply": "2024-04-28T19:14:23.880400Z",
     "shell.execute_reply.started": "2024-04-28T19:14:23.875024Z"
    }
   },
   "outputs": [],
   "source": [
    "dataset = dataset.drop(['location'], axis = 1)"
   ]
  },
  {
   "cell_type": "code",
   "execution_count": 31,
   "metadata": {
    "ExecuteTime": {
     "end_time": "2024-05-06T03:40:38.892593Z",
     "start_time": "2024-05-06T03:40:38.830628Z"
    },
    "execution": {
     "iopub.execute_input": "2024-04-28T19:14:23.883892Z",
     "iopub.status.busy": "2024-04-28T19:14:23.883418Z",
     "iopub.status.idle": "2024-04-28T19:14:23.900535Z",
     "shell.execute_reply": "2024-04-28T19:14:23.899195Z",
     "shell.execute_reply.started": "2024-04-28T19:14:23.883865Z"
    }
   },
   "outputs": [
    {
     "name": "stdout",
     "output_type": "stream",
     "text": [
      "        job_id                  title  max_salary  min_salary pay_period  \\\n",
      "27  3757934319      Controls Engineer   72.115385   58.173077     YEARLY   \n",
      "49  3757932846  Estimator In Training   20.000000   14.000000     HOURLY   \n",
      "58  3757932736          Sales Manager  168.269231   60.096154     YEARLY   \n",
      "64  3757932015          Sales Manager  168.269231   60.096154     YEARLY   \n",
      "77  3757931759          Sales Manager  168.269231   60.096154     YEARLY   \n",
      "\n",
      "    applies  remote_allowed  views    application_type  sponsored  ...  \\\n",
      "27      1.0               0    5.0        OffsiteApply          0  ...   \n",
      "49      1.0               0    2.0        OffsiteApply          0  ...   \n",
      "58      2.0               1    4.0  ComplexOnsiteApply          0  ...   \n",
      "64      3.0               1    6.0  ComplexOnsiteApply          0  ...   \n",
      "77      1.0               1    1.0  ComplexOnsiteApply          0  ...   \n",
      "\n",
      "   application_type_SimpleOnsiteApply  location_Central Plains  \\\n",
      "27                              False                    False   \n",
      "49                              False                    False   \n",
      "58                              False                    False   \n",
      "64                              False                    False   \n",
      "77                              False                    False   \n",
      "\n",
      "    location_Mid-Atlantic  location_Midwest  location_Mountain  \\\n",
      "27                  False             False              False   \n",
      "49                  False             False              False   \n",
      "58                  False             False              False   \n",
      "64                  False             False              False   \n",
      "77                  False             False              False   \n",
      "\n",
      "    location_Northeast  location_Pacific Northwest  location_South  \\\n",
      "27               False                       False            True   \n",
      "49               False                       False            True   \n",
      "58                True                       False           False   \n",
      "64                True                       False           False   \n",
      "77               False                       False            True   \n",
      "\n",
      "    location_Southwest  location_Unknown  \n",
      "27               False             False  \n",
      "49               False             False  \n",
      "58               False             False  \n",
      "64               False             False  \n",
      "77               False             False  \n",
      "\n",
      "[5 rows x 33 columns]\n"
     ]
    }
   ],
   "source": [
    "print(dataset.head())"
   ]
  },
  {
   "cell_type": "code",
   "execution_count": 32,
   "metadata": {
    "ExecuteTime": {
     "end_time": "2024-05-06T03:40:39.187658Z",
     "start_time": "2024-05-06T03:40:38.904583Z"
    },
    "execution": {
     "iopub.execute_input": "2024-04-28T19:14:23.903036Z",
     "iopub.status.busy": "2024-04-28T19:14:23.902297Z",
     "iopub.status.idle": "2024-04-28T19:14:24.004165Z",
     "shell.execute_reply": "2024-04-28T19:14:24.002961Z",
     "shell.execute_reply.started": "2024-04-28T19:14:23.902998Z"
    }
   },
   "outputs": [],
   "source": [
    "dataset.to_csv(\"salaries.csv\", index = False)"
   ]
  },
  {
   "cell_type": "code",
   "execution_count": 33,
   "metadata": {
    "ExecuteTime": {
     "end_time": "2024-05-06T03:40:39.214710Z",
     "start_time": "2024-05-06T03:40:39.194649Z"
    },
    "execution": {
     "iopub.execute_input": "2024-04-28T19:14:24.006333Z",
     "iopub.status.busy": "2024-04-28T19:14:24.005887Z",
     "iopub.status.idle": "2024-04-28T19:14:24.017578Z",
     "shell.execute_reply": "2024-04-28T19:14:24.014958Z",
     "shell.execute_reply.started": "2024-04-28T19:14:24.006297Z"
    }
   },
   "outputs": [
    {
     "name": "stdout",
     "output_type": "stream",
     "text": [
      "There are no NA values in the DataFrame.\n"
     ]
    }
   ],
   "source": [
    "# Check if there are any NA values in the DataFrame\n",
    "if dataset.isna().values.any():\n",
    "    print(\"There are NA values in the DataFrame.\")\n",
    "else:\n",
    "    print(\"There are no NA values in the DataFrame.\")"
   ]
  },
  {
   "cell_type": "code",
   "execution_count": 34,
   "metadata": {
    "ExecuteTime": {
     "end_time": "2024-05-06T03:40:39.323088Z",
     "start_time": "2024-05-06T03:40:39.225701Z"
    }
   },
   "outputs": [
    {
     "data": {
      "text/html": [
       "<div>\n",
       "<style scoped>\n",
       "    .dataframe tbody tr th:only-of-type {\n",
       "        vertical-align: middle;\n",
       "    }\n",
       "\n",
       "    .dataframe tbody tr th {\n",
       "        vertical-align: top;\n",
       "    }\n",
       "\n",
       "    .dataframe thead th {\n",
       "        text-align: right;\n",
       "    }\n",
       "</style>\n",
       "<table border=\"1\" class=\"dataframe\">\n",
       "  <thead>\n",
       "    <tr style=\"text-align: right;\">\n",
       "      <th></th>\n",
       "      <th>job_id</th>\n",
       "      <th>title</th>\n",
       "      <th>max_salary</th>\n",
       "      <th>min_salary</th>\n",
       "      <th>pay_period</th>\n",
       "      <th>applies</th>\n",
       "      <th>remote_allowed</th>\n",
       "      <th>views</th>\n",
       "      <th>application_type</th>\n",
       "      <th>sponsored</th>\n",
       "      <th>...</th>\n",
       "      <th>application_type_SimpleOnsiteApply</th>\n",
       "      <th>location_Central Plains</th>\n",
       "      <th>location_Mid-Atlantic</th>\n",
       "      <th>location_Midwest</th>\n",
       "      <th>location_Mountain</th>\n",
       "      <th>location_Northeast</th>\n",
       "      <th>location_Pacific Northwest</th>\n",
       "      <th>location_South</th>\n",
       "      <th>location_Southwest</th>\n",
       "      <th>location_Unknown</th>\n",
       "    </tr>\n",
       "  </thead>\n",
       "  <tbody>\n",
       "    <tr>\n",
       "      <th>27</th>\n",
       "      <td>3757934319</td>\n",
       "      <td>Controls Engineer</td>\n",
       "      <td>72.115385</td>\n",
       "      <td>58.173077</td>\n",
       "      <td>YEARLY</td>\n",
       "      <td>1.0</td>\n",
       "      <td>0</td>\n",
       "      <td>5.0</td>\n",
       "      <td>OffsiteApply</td>\n",
       "      <td>0</td>\n",
       "      <td>...</td>\n",
       "      <td>False</td>\n",
       "      <td>False</td>\n",
       "      <td>False</td>\n",
       "      <td>False</td>\n",
       "      <td>False</td>\n",
       "      <td>False</td>\n",
       "      <td>False</td>\n",
       "      <td>True</td>\n",
       "      <td>False</td>\n",
       "      <td>False</td>\n",
       "    </tr>\n",
       "    <tr>\n",
       "      <th>49</th>\n",
       "      <td>3757932846</td>\n",
       "      <td>Estimator In Training</td>\n",
       "      <td>20.000000</td>\n",
       "      <td>14.000000</td>\n",
       "      <td>HOURLY</td>\n",
       "      <td>1.0</td>\n",
       "      <td>0</td>\n",
       "      <td>2.0</td>\n",
       "      <td>OffsiteApply</td>\n",
       "      <td>0</td>\n",
       "      <td>...</td>\n",
       "      <td>False</td>\n",
       "      <td>False</td>\n",
       "      <td>False</td>\n",
       "      <td>False</td>\n",
       "      <td>False</td>\n",
       "      <td>False</td>\n",
       "      <td>False</td>\n",
       "      <td>True</td>\n",
       "      <td>False</td>\n",
       "      <td>False</td>\n",
       "    </tr>\n",
       "    <tr>\n",
       "      <th>58</th>\n",
       "      <td>3757932736</td>\n",
       "      <td>Sales Manager</td>\n",
       "      <td>168.269231</td>\n",
       "      <td>60.096154</td>\n",
       "      <td>YEARLY</td>\n",
       "      <td>2.0</td>\n",
       "      <td>1</td>\n",
       "      <td>4.0</td>\n",
       "      <td>ComplexOnsiteApply</td>\n",
       "      <td>0</td>\n",
       "      <td>...</td>\n",
       "      <td>False</td>\n",
       "      <td>False</td>\n",
       "      <td>False</td>\n",
       "      <td>False</td>\n",
       "      <td>False</td>\n",
       "      <td>True</td>\n",
       "      <td>False</td>\n",
       "      <td>False</td>\n",
       "      <td>False</td>\n",
       "      <td>False</td>\n",
       "    </tr>\n",
       "    <tr>\n",
       "      <th>64</th>\n",
       "      <td>3757932015</td>\n",
       "      <td>Sales Manager</td>\n",
       "      <td>168.269231</td>\n",
       "      <td>60.096154</td>\n",
       "      <td>YEARLY</td>\n",
       "      <td>3.0</td>\n",
       "      <td>1</td>\n",
       "      <td>6.0</td>\n",
       "      <td>ComplexOnsiteApply</td>\n",
       "      <td>0</td>\n",
       "      <td>...</td>\n",
       "      <td>False</td>\n",
       "      <td>False</td>\n",
       "      <td>False</td>\n",
       "      <td>False</td>\n",
       "      <td>False</td>\n",
       "      <td>True</td>\n",
       "      <td>False</td>\n",
       "      <td>False</td>\n",
       "      <td>False</td>\n",
       "      <td>False</td>\n",
       "    </tr>\n",
       "    <tr>\n",
       "      <th>77</th>\n",
       "      <td>3757931759</td>\n",
       "      <td>Sales Manager</td>\n",
       "      <td>168.269231</td>\n",
       "      <td>60.096154</td>\n",
       "      <td>YEARLY</td>\n",
       "      <td>1.0</td>\n",
       "      <td>1</td>\n",
       "      <td>1.0</td>\n",
       "      <td>ComplexOnsiteApply</td>\n",
       "      <td>0</td>\n",
       "      <td>...</td>\n",
       "      <td>False</td>\n",
       "      <td>False</td>\n",
       "      <td>False</td>\n",
       "      <td>False</td>\n",
       "      <td>False</td>\n",
       "      <td>False</td>\n",
       "      <td>False</td>\n",
       "      <td>True</td>\n",
       "      <td>False</td>\n",
       "      <td>False</td>\n",
       "    </tr>\n",
       "  </tbody>\n",
       "</table>\n",
       "<p>5 rows × 33 columns</p>\n",
       "</div>"
      ],
      "text/plain": [
       "        job_id                  title  max_salary  min_salary pay_period  \\\n",
       "27  3757934319      Controls Engineer   72.115385   58.173077     YEARLY   \n",
       "49  3757932846  Estimator In Training   20.000000   14.000000     HOURLY   \n",
       "58  3757932736          Sales Manager  168.269231   60.096154     YEARLY   \n",
       "64  3757932015          Sales Manager  168.269231   60.096154     YEARLY   \n",
       "77  3757931759          Sales Manager  168.269231   60.096154     YEARLY   \n",
       "\n",
       "    applies  remote_allowed  views    application_type  sponsored  ...  \\\n",
       "27      1.0               0    5.0        OffsiteApply          0  ...   \n",
       "49      1.0               0    2.0        OffsiteApply          0  ...   \n",
       "58      2.0               1    4.0  ComplexOnsiteApply          0  ...   \n",
       "64      3.0               1    6.0  ComplexOnsiteApply          0  ...   \n",
       "77      1.0               1    1.0  ComplexOnsiteApply          0  ...   \n",
       "\n",
       "   application_type_SimpleOnsiteApply  location_Central Plains  \\\n",
       "27                              False                    False   \n",
       "49                              False                    False   \n",
       "58                              False                    False   \n",
       "64                              False                    False   \n",
       "77                              False                    False   \n",
       "\n",
       "    location_Mid-Atlantic  location_Midwest  location_Mountain  \\\n",
       "27                  False             False              False   \n",
       "49                  False             False              False   \n",
       "58                  False             False              False   \n",
       "64                  False             False              False   \n",
       "77                  False             False              False   \n",
       "\n",
       "    location_Northeast  location_Pacific Northwest  location_South  \\\n",
       "27               False                       False            True   \n",
       "49               False                       False            True   \n",
       "58                True                       False           False   \n",
       "64                True                       False           False   \n",
       "77               False                       False            True   \n",
       "\n",
       "    location_Southwest  location_Unknown  \n",
       "27               False             False  \n",
       "49               False             False  \n",
       "58               False             False  \n",
       "64               False             False  \n",
       "77               False             False  \n",
       "\n",
       "[5 rows x 33 columns]"
      ]
     },
     "execution_count": 34,
     "metadata": {},
     "output_type": "execute_result"
    }
   ],
   "source": [
    "dataset.head()"
   ]
  },
  {
   "cell_type": "code",
   "execution_count": 35,
   "metadata": {
    "ExecuteTime": {
     "end_time": "2024-05-06T03:40:39.348382Z",
     "start_time": "2024-05-06T03:40:39.332072Z"
    }
   },
   "outputs": [
    {
     "data": {
      "text/plain": [
       "Index(['job_id', 'title', 'max_salary', 'min_salary', 'pay_period', 'applies',\n",
       "       'remote_allowed', 'views', 'application_type', 'sponsored', 'work_type',\n",
       "       'pay_period_HOURLY', 'pay_period_MONTHLY', 'pay_period_WEEKLY',\n",
       "       'pay_period_YEARLY', 'work_type_CONTRACT', 'work_type_FULL_TIME',\n",
       "       'work_type_INTERNSHIP', 'work_type_OTHER', 'work_type_PART_TIME',\n",
       "       'work_type_TEMPORARY', 'application_type_ComplexOnsiteApply',\n",
       "       'application_type_OffsiteApply', 'application_type_SimpleOnsiteApply',\n",
       "       'location_Central Plains', 'location_Mid-Atlantic', 'location_Midwest',\n",
       "       'location_Mountain', 'location_Northeast', 'location_Pacific Northwest',\n",
       "       'location_South', 'location_Southwest', 'location_Unknown'],\n",
       "      dtype='object')"
      ]
     },
     "execution_count": 35,
     "metadata": {},
     "output_type": "execute_result"
    }
   ],
   "source": [
    "dataset.columns"
   ]
  },
  {
   "cell_type": "code",
   "execution_count": 36,
   "metadata": {
    "ExecuteTime": {
     "end_time": "2024-05-06T03:40:39.369128Z",
     "start_time": "2024-05-06T03:40:39.357377Z"
    }
   },
   "outputs": [
    {
     "data": {
      "text/plain": [
       "(6600, 33)"
      ]
     },
     "execution_count": 36,
     "metadata": {},
     "output_type": "execute_result"
    }
   ],
   "source": [
    "dataset.shape"
   ]
  },
  {
   "cell_type": "markdown",
   "metadata": {},
   "source": [
    "**Variable Significance Models**"
   ]
  },
  {
   "cell_type": "code",
   "execution_count": 37,
   "metadata": {
    "ExecuteTime": {
     "end_time": "2024-05-06T03:40:39.573216Z",
     "start_time": "2024-05-06T03:40:39.377118Z"
    },
    "execution": {
     "iopub.execute_input": "2024-04-28T19:14:24.019883Z",
     "iopub.status.busy": "2024-04-28T19:14:24.019525Z",
     "iopub.status.idle": "2024-04-28T19:14:24.074818Z",
     "shell.execute_reply": "2024-04-28T19:14:24.073104Z",
     "shell.execute_reply.started": "2024-04-28T19:14:24.019855Z"
    }
   },
   "outputs": [],
   "source": [
    "final_data = pd.read_csv('salaries.csv')"
   ]
  },
  {
   "cell_type": "code",
   "execution_count": 38,
   "metadata": {
    "ExecuteTime": {
     "end_time": "2024-05-06T03:40:39.635587Z",
     "start_time": "2024-05-06T03:40:39.580209Z"
    },
    "execution": {
     "iopub.execute_input": "2024-04-28T19:14:24.076617Z",
     "iopub.status.busy": "2024-04-28T19:14:24.076241Z",
     "iopub.status.idle": "2024-04-28T19:14:24.093623Z",
     "shell.execute_reply": "2024-04-28T19:14:24.091852Z",
     "shell.execute_reply.started": "2024-04-28T19:14:24.076587Z"
    }
   },
   "outputs": [],
   "source": [
    "# Convert boolean columns to int (1 for True and 0 for False)\n",
    "final_data = final_data.astype({col: 'int' for col in final_data.select_dtypes(include='bool').columns})"
   ]
  },
  {
   "cell_type": "markdown",
   "metadata": {},
   "source": [
    "## Step 2: Building the right Linear Regression (OLS)  model from scratch"
   ]
  },
  {
   "cell_type": "markdown",
   "metadata": {},
   "source": [
    "### OLS with all the variables"
   ]
  },
  {
   "cell_type": "code",
   "execution_count": 39,
   "metadata": {
    "ExecuteTime": {
     "end_time": "2024-05-06T03:40:40.065539Z",
     "start_time": "2024-05-06T03:40:39.646573Z"
    },
    "execution": {
     "iopub.execute_input": "2024-04-28T19:14:24.098740Z",
     "iopub.status.busy": "2024-04-28T19:14:24.095307Z",
     "iopub.status.idle": "2024-04-28T19:14:24.170064Z",
     "shell.execute_reply": "2024-04-28T19:14:24.165433Z",
     "shell.execute_reply.started": "2024-04-28T19:14:24.098696Z"
    }
   },
   "outputs": [
    {
     "name": "stdout",
     "output_type": "stream",
     "text": [
      "                            OLS Regression Results                            \n",
      "==============================================================================\n",
      "Dep. Variable:                applies   R-squared:                       0.811\n",
      "Model:                            OLS   Adj. R-squared:                  0.811\n",
      "Method:                 Least Squares   F-statistic:                     1230.\n",
      "Date:                Sun, 05 May 2024   Prob (F-statistic):               0.00\n",
      "Time:                        22:40:39   Log-Likelihood:                -29908.\n",
      "No. Observations:                6600   AIC:                         5.986e+04\n",
      "Df Residuals:                    6576   BIC:                         6.003e+04\n",
      "Df Model:                          23                                         \n",
      "Covariance Type:            nonrobust                                         \n",
      "=======================================================================================================\n",
      "                                          coef    std err          t      P>|t|      [0.025      0.975]\n",
      "-------------------------------------------------------------------------------------------------------\n",
      "const                                  -1.0289      2.304     -0.446      0.655      -5.546       3.489\n",
      "max_salary                             -0.0015      0.002     -0.649      0.516      -0.006       0.003\n",
      "min_salary                              0.0017      0.003      0.651      0.515      -0.003       0.007\n",
      "remote_allowed                          2.9995      0.847      3.542      0.000       1.339       4.660\n",
      "views                                   0.2525      0.002    156.440      0.000       0.249       0.256\n",
      "sponsored                              -1.7563      0.609     -2.882      0.004      -2.951      -0.562\n",
      "pay_period_HOURLY                       1.2980      3.553      0.365      0.715      -5.667       8.263\n",
      "pay_period_MONTHLY                     -0.4774      4.068     -0.117      0.907      -8.452       7.497\n",
      "pay_period_WEEKLY                      -0.7394     12.537     -0.059      0.953     -25.316      23.838\n",
      "pay_period_YEARLY                      -1.1101      3.534     -0.314      0.753      -8.038       5.818\n",
      "work_type_CONTRACT                      0.7981      1.483      0.538      0.590      -2.109       3.705\n",
      "work_type_FULL_TIME                     0.8066      1.364      0.591      0.554      -1.868       3.481\n",
      "work_type_INTERNSHIP                   -0.2814      4.057     -0.069      0.945      -8.235       7.672\n",
      "work_type_OTHER                         0.9491      4.636      0.205      0.838      -8.139      10.037\n",
      "work_type_PART_TIME                    -2.4494      2.095     -1.169      0.242      -6.556       1.657\n",
      "work_type_TEMPORARY                    -0.8519      3.215     -0.265      0.791      -7.155       5.451\n",
      "application_type_ComplexOnsiteApply     2.7381      0.936      2.926      0.003       0.904       4.572\n",
      "application_type_OffsiteApply          -5.7380      0.932     -6.154      0.000      -7.566      -3.910\n",
      "application_type_SimpleOnsiteApply      1.9710      1.179      1.672      0.095      -0.340       4.282\n",
      "location_Central Plains                 2.2735      2.802      0.811      0.417      -3.219       7.766\n",
      "location_Mid-Atlantic                   0.1487      1.126      0.132      0.895      -2.059       2.356\n",
      "location_Midwest                       -0.7948      1.058     -0.751      0.453      -2.869       1.280\n",
      "location_Mountain                       0.6468      1.368      0.473      0.636      -2.034       3.328\n",
      "location_Northeast                      0.3373      0.755      0.447      0.655      -1.143       1.817\n",
      "location_Pacific Northwest             -0.8079      1.229     -0.657      0.511      -3.218       1.602\n",
      "location_South                          0.3886      0.838      0.464      0.643      -1.254       2.031\n",
      "location_Southwest                     -0.9361      0.711     -1.316      0.188      -2.330       0.458\n",
      "location_Unknown                       -2.2850      0.854     -2.675      0.007      -3.959      -0.611\n",
      "==============================================================================\n",
      "Omnibus:                     4546.033   Durbin-Watson:                   2.026\n",
      "Prob(Omnibus):                  0.000   Jarque-Bera (JB):          1450581.582\n",
      "Skew:                           2.157   Prob(JB):                         0.00\n",
      "Kurtosis:                      75.500   Cond. No.                     1.85e+18\n",
      "==============================================================================\n",
      "\n",
      "Notes:\n",
      "[1] Standard Errors assume that the covariance matrix of the errors is correctly specified.\n",
      "[2] The smallest eigenvalue is 1.76e-26. This might indicate that there are\n",
      "strong multicollinearity problems or that the design matrix is singular.\n"
     ]
    }
   ],
   "source": [
    "# Import necessary libraries\n",
    "import statsmodels.api as sm\n",
    "import numpy as np\n",
    "\n",
    "# Select only numeric columns\n",
    "numeric_final_data = final_data.select_dtypes(include=[np.number])\n",
    "\n",
    "# Define your dependent variable (replace 'applies' with your dependent variable)\n",
    "Y = numeric_final_data['applies']\n",
    "\n",
    "# Define your independent variables (drop the dependent variable and 'job_id' from the DataFrame)\n",
    "X = numeric_final_data.drop(['applies', 'job_id'], axis=1)\n",
    "\n",
    "# Add a constant to the independent variables matrix\n",
    "X = sm.add_constant(X)\n",
    "\n",
    "# Run the OLS model\n",
    "model = sm.OLS(Y, X)\n",
    "results = model.fit()\n",
    "\n",
    "# Print the summary\n",
    "print(results.summary())"
   ]
  },
  {
   "cell_type": "markdown",
   "metadata": {},
   "source": [
    "## Step 3: Selecting the model with the most significant variables"
   ]
  },
  {
   "cell_type": "markdown",
   "metadata": {},
   "source": [
    "**Model Selection: Forward Selection**"
   ]
  },
  {
   "cell_type": "code",
   "execution_count": 40,
   "metadata": {
    "ExecuteTime": {
     "end_time": "2024-05-06T03:40:42.886751Z",
     "start_time": "2024-05-06T03:40:40.074531Z"
    },
    "execution": {
     "iopub.execute_input": "2024-04-28T19:14:24.175367Z",
     "iopub.status.busy": "2024-04-28T19:14:24.172117Z",
     "iopub.status.idle": "2024-04-28T19:14:25.366778Z",
     "shell.execute_reply": "2024-04-28T19:14:25.365638Z",
     "shell.execute_reply.started": "2024-04-28T19:14:24.175317Z"
    }
   },
   "outputs": [
    {
     "name": "stdout",
     "output_type": "stream",
     "text": [
      "                            OLS Regression Results                            \n",
      "==============================================================================\n",
      "Dep. Variable:                applies   R-squared:                       0.811\n",
      "Model:                            OLS   Adj. R-squared:                  0.811\n",
      "Method:                 Least Squares   F-statistic:                     4718.\n",
      "Date:                Sun, 05 May 2024   Prob (F-statistic):               0.00\n",
      "Time:                        22:40:42   Log-Likelihood:                -29912.\n",
      "No. Observations:                6600   AIC:                         5.984e+04\n",
      "Df Residuals:                    6593   BIC:                         5.989e+04\n",
      "Df Model:                           6                                         \n",
      "Covariance Type:            nonrobust                                         \n",
      "=================================================================================================\n",
      "                                    coef    std err          t      P>|t|      [0.025      0.975]\n",
      "-------------------------------------------------------------------------------------------------\n",
      "const                             1.1678      0.535      2.181      0.029       0.118       2.218\n",
      "views                             0.2524      0.002    157.182      0.000       0.249       0.256\n",
      "application_type_OffsiteApply    -8.5045      0.572    -14.875      0.000      -9.625      -7.384\n",
      "pay_period_HOURLY                 2.0888      0.641      3.261      0.001       0.833       3.345\n",
      "sponsored                        -1.7036      0.607     -2.806      0.005      -2.894      -0.513\n",
      "remote_allowed                    3.0033      0.842      3.569      0.000       1.354       4.653\n",
      "location_Unknown                 -2.0821      0.829     -2.512      0.012      -3.707      -0.457\n",
      "==============================================================================\n",
      "Omnibus:                     4543.801   Durbin-Watson:                   2.025\n",
      "Prob(Omnibus):                  0.000   Jarque-Bera (JB):          1456005.034\n",
      "Skew:                           2.154   Prob(JB):                         0.00\n",
      "Kurtosis:                      75.636   Cond. No.                         765.\n",
      "==============================================================================\n",
      "\n",
      "Notes:\n",
      "[1] Standard Errors assume that the covariance matrix of the errors is correctly specified.\n"
     ]
    }
   ],
   "source": [
    "# Import necessary libraries\n",
    "import statsmodels.api as sm\n",
    "import numpy as np\n",
    "import pandas as pd\n",
    "\n",
    "# Select only numeric columns\n",
    "numeric_final_data = final_data.select_dtypes(include=[np.number])\n",
    "\n",
    "# Define your dependent variable\n",
    "Y = numeric_final_data['applies']\n",
    "\n",
    "# Define your independent variables\n",
    "X = numeric_final_data.drop(['applies', 'job_id'], axis=1)\n",
    "\n",
    "# List of all possible predictors\n",
    "predictors = list(X.columns)\n",
    "\n",
    "# Forward stepwise selection\n",
    "selected_predictors = []\n",
    "for i in range(len(predictors)):\n",
    "    remaining_predictors = list(set(predictors) - set(selected_predictors))\n",
    "    pvalues = []\n",
    "    for p in remaining_predictors:\n",
    "        model = sm.OLS(Y, sm.add_constant(pd.DataFrame(X[selected_predictors + [p]])))\n",
    "        pvalues.append(model.fit().pvalues[p])\n",
    "    min_p_value_predictor = remaining_predictors[pvalues.index(min(pvalues))]\n",
    "    if min(pvalues) < 0.05:\n",
    "        selected_predictors.append(min_p_value_predictor)\n",
    "    else:\n",
    "        break\n",
    "\n",
    "\n",
    "# Run the OLS model with selected predictors\n",
    "X_selected = sm.add_constant(X[selected_predictors])\n",
    "model = sm.OLS(Y, X_selected)\n",
    "results = model.fit()\n",
    "\n",
    "# Print the summary\n",
    "print(results.summary())"
   ]
  },
  {
   "cell_type": "markdown",
   "metadata": {},
   "source": [
    "**Model Selection using: Stepwise selection**"
   ]
  },
  {
   "cell_type": "code",
   "execution_count": 41,
   "metadata": {
    "ExecuteTime": {
     "end_time": "2024-05-06T03:40:48.482579Z",
     "start_time": "2024-05-06T03:40:42.894786Z"
    },
    "execution": {
     "iopub.execute_input": "2024-04-28T19:14:25.369469Z",
     "iopub.status.busy": "2024-04-28T19:14:25.368648Z",
     "iopub.status.idle": "2024-04-28T19:14:26.862842Z",
     "shell.execute_reply": "2024-04-28T19:14:26.861731Z",
     "shell.execute_reply.started": "2024-04-28T19:14:25.369412Z"
    }
   },
   "outputs": [
    {
     "name": "stdout",
     "output_type": "stream",
     "text": [
      "                            OLS Regression Results                            \n",
      "==============================================================================\n",
      "Dep. Variable:                applies   R-squared:                       0.811\n",
      "Model:                            OLS   Adj. R-squared:                  0.811\n",
      "Method:                 Least Squares   F-statistic:                     4718.\n",
      "Date:                Sun, 05 May 2024   Prob (F-statistic):               0.00\n",
      "Time:                        22:40:48   Log-Likelihood:                -29912.\n",
      "No. Observations:                6600   AIC:                         5.984e+04\n",
      "Df Residuals:                    6593   BIC:                         5.989e+04\n",
      "Df Model:                           6                                         \n",
      "Covariance Type:            nonrobust                                         \n",
      "=================================================================================================\n",
      "                                    coef    std err          t      P>|t|      [0.025      0.975]\n",
      "-------------------------------------------------------------------------------------------------\n",
      "const                             1.1678      0.535      2.181      0.029       0.118       2.218\n",
      "views                             0.2524      0.002    157.182      0.000       0.249       0.256\n",
      "application_type_OffsiteApply    -8.5045      0.572    -14.875      0.000      -9.625      -7.384\n",
      "pay_period_HOURLY                 2.0888      0.641      3.261      0.001       0.833       3.345\n",
      "sponsored                        -1.7036      0.607     -2.806      0.005      -2.894      -0.513\n",
      "remote_allowed                    3.0033      0.842      3.569      0.000       1.354       4.653\n",
      "location_Unknown                 -2.0821      0.829     -2.512      0.012      -3.707      -0.457\n",
      "==============================================================================\n",
      "Omnibus:                     4543.801   Durbin-Watson:                   2.025\n",
      "Prob(Omnibus):                  0.000   Jarque-Bera (JB):          1456005.034\n",
      "Skew:                           2.154   Prob(JB):                         0.00\n",
      "Kurtosis:                      75.636   Cond. No.                         765.\n",
      "==============================================================================\n",
      "\n",
      "Notes:\n",
      "[1] Standard Errors assume that the covariance matrix of the errors is correctly specified.\n"
     ]
    }
   ],
   "source": [
    "# Import necessary libraries\n",
    "import statsmodels.api as sm\n",
    "import numpy as np\n",
    "import pandas as pd\n",
    "\n",
    "# Select only numeric columns\n",
    "numeric_final_data = final_data.select_dtypes(include=[np.number])\n",
    "\n",
    "# Define your dependent variable\n",
    "Y = numeric_final_data['applies']\n",
    "\n",
    "# Define your independent variables\n",
    "X = numeric_final_data.drop(['applies', 'job_id'], axis=1)\n",
    "\n",
    "# List of all possible predictors\n",
    "predictors = list(X.columns)\n",
    "\n",
    "# Stepwise selection\n",
    "selected_predictors = []\n",
    "while len(predictors) > 0:\n",
    "    remaining_predictors = list(set(predictors) - set(selected_predictors))\n",
    "    new_pval = pd.Series(index=remaining_predictors)\n",
    "    for p in remaining_predictors:\n",
    "        model = sm.OLS(Y, sm.add_constant(pd.DataFrame(X[selected_predictors + [p]])))\n",
    "        new_pval[p] = model.fit().pvalues[p]\n",
    "    min_p_value_predictor = new_pval.idxmin()\n",
    "    if new_pval.min() < 0.05:\n",
    "        selected_predictors.append(min_p_value_predictor)\n",
    "        while len(selected_predictors) > 0:\n",
    "            selected_pvalues = []\n",
    "            for p in selected_predictors:\n",
    "                model = sm.OLS(Y, sm.add_constant(pd.DataFrame(X[selected_predictors])))\n",
    "                selected_pvalues.append(model.fit().pvalues[p])\n",
    "            max_p_value_predictor = selected_predictors[selected_pvalues.index(max(selected_pvalues))]\n",
    "            if max(selected_pvalues) > 0.05:\n",
    "                selected_predictors.remove(max_p_value_predictor)\n",
    "            else:\n",
    "                break\n",
    "    else:\n",
    "        break\n",
    "\n",
    "# Run the OLS model with selected predictors\n",
    "X_selected = sm.add_constant(X[selected_predictors])\n",
    "model = sm.OLS(Y, X_selected)\n",
    "results = model.fit()\n",
    "\n",
    "# Print the summary\n",
    "print(results.summary())"
   ]
  },
  {
   "cell_type": "markdown",
   "metadata": {},
   "source": [
    "**Stepwise with log model**"
   ]
  },
  {
   "cell_type": "code",
   "execution_count": 42,
   "metadata": {
    "ExecuteTime": {
     "end_time": "2024-05-06T03:40:59.810641Z",
     "start_time": "2024-05-06T03:40:48.489575Z"
    }
   },
   "outputs": [
    {
     "name": "stdout",
     "output_type": "stream",
     "text": [
      "                            OLS Regression Results                            \n",
      "==============================================================================\n",
      "Dep. Variable:                applies   R-squared:                       0.781\n",
      "Model:                            OLS   Adj. R-squared:                  0.781\n",
      "Method:                 Least Squares   F-statistic:                     2138.\n",
      "Date:                Sun, 05 May 2024   Prob (F-statistic):               0.00\n",
      "Time:                        22:40:59   Log-Likelihood:                -6865.2\n",
      "No. Observations:                6600   AIC:                         1.375e+04\n",
      "Df Residuals:                    6588   BIC:                         1.384e+04\n",
      "Df Model:                          11                                         \n",
      "Covariance Type:            nonrobust                                         \n",
      "=======================================================================================================\n",
      "                                          coef    std err          t      P>|t|      [0.025      0.975]\n",
      "-------------------------------------------------------------------------------------------------------\n",
      "const                                  -1.0880      0.022    -49.018      0.000      -1.131      -1.044\n",
      "views                                   0.9205      0.007    134.641      0.000       0.907       0.934\n",
      "application_type_OffsiteApply          -0.6497      0.015    -42.256      0.000      -0.680      -0.620\n",
      "remote_allowed                          0.2577      0.023     11.311      0.000       0.213       0.302\n",
      "sponsored                              -0.1008      0.019     -5.395      0.000      -0.137      -0.064\n",
      "work_type_CONTRACT                     -0.2177      0.031     -6.951      0.000      -0.279      -0.156\n",
      "pay_period_HOURLY                       0.1427      0.023      6.160      0.000       0.097       0.188\n",
      "location_Midwest                       -0.1039      0.034     -3.071      0.002      -0.170      -0.038\n",
      "application_type_ComplexOnsiteApply    -0.2754      0.016    -16.918      0.000      -0.307      -0.243\n",
      "application_type_SimpleOnsiteApply     -0.1629      0.030     -5.376      0.000      -0.222      -0.103\n",
      "location_Central Plains                -0.2192      0.095     -2.306      0.021      -0.405      -0.033\n",
      "location_Northeast                      0.0603      0.023      2.663      0.008       0.016       0.105\n",
      "location_South                          0.0539      0.026      2.086      0.037       0.003       0.104\n",
      "==============================================================================\n",
      "Omnibus:                      335.769   Durbin-Watson:                   1.969\n",
      "Prob(Omnibus):                  0.000   Jarque-Bera (JB):              401.221\n",
      "Skew:                          -0.543   Prob(JB):                     7.51e-88\n",
      "Kurtosis:                       3.529   Cond. No.                     4.35e+16\n",
      "==============================================================================\n",
      "\n",
      "Notes:\n",
      "[1] Standard Errors assume that the covariance matrix of the errors is correctly specified.\n",
      "[2] The smallest eigenvalue is 5.89e-29. This might indicate that there are\n",
      "strong multicollinearity problems or that the design matrix is singular.\n"
     ]
    }
   ],
   "source": [
    "# Import necessary libraries\n",
    "import statsmodels.api as sm\n",
    "import numpy as np\n",
    "import pandas as pd\n",
    "\n",
    "# Select only numeric columns\n",
    "numeric_final_data = final_data.select_dtypes(include=[np.number])\n",
    "\n",
    "# Define your dependent variable and take its logarithm\n",
    "Y = np.log(numeric_final_data['applies'])\n",
    "\n",
    "# Define your independent variables and take the logarithm of 'views'\n",
    "X = numeric_final_data.drop(['applies', 'job_id'], axis=1)\n",
    "X['views'] = np.log(X['views'])\n",
    "\n",
    "# List of all possible predictors\n",
    "predictors = list(X.columns)\n",
    "\n",
    "# Stepwise selection\n",
    "selected_predictors = []\n",
    "while len(predictors) > 0:\n",
    "    remaining_predictors = list(set(predictors) - set(selected_predictors))\n",
    "    new_pval = pd.Series(index=remaining_predictors)\n",
    "    for p in remaining_predictors:\n",
    "        model = sm.OLS(Y, sm.add_constant(pd.DataFrame(X[selected_predictors + [p]])))\n",
    "        new_pval[p] = model.fit().pvalues[p]\n",
    "    min_p_value_predictor = new_pval.idxmin()\n",
    "    if new_pval.min() < 0.05:\n",
    "        selected_predictors.append(min_p_value_predictor)\n",
    "        while len(selected_predictors) > 0:\n",
    "            selected_pvalues = []\n",
    "            for p in selected_predictors:\n",
    "                model = sm.OLS(Y, sm.add_constant(pd.DataFrame(X[selected_predictors])))\n",
    "                selected_pvalues.append(model.fit().pvalues[p])\n",
    "            max_p_value_predictor = selected_predictors[selected_pvalues.index(max(selected_pvalues))]\n",
    "            if max(selected_pvalues) > 0.05:\n",
    "                selected_predictors.remove(max_p_value_predictor)\n",
    "            else:\n",
    "                break\n",
    "    else:\n",
    "        break\n",
    "\n",
    "# Run the OLS model with selected predictors\n",
    "X_selected = sm.add_constant(X[selected_predictors])\n",
    "model = sm.OLS(Y, X_selected)\n",
    "results = model.fit()\n",
    "\n",
    "# Print the summary\n",
    "print(results.summary())"
   ]
  },
  {
   "cell_type": "markdown",
   "metadata": {},
   "source": [
    "**Observation: Here we see that we are getting the same final model using forward selection & Backward elemination & Stepwise Selection, Thus we will use log stepwise as out final model**"
   ]
  },
  {
   "cell_type": "markdown",
   "metadata": {},
   "source": [
    "**Final model with the most statistically significant variables:**"
   ]
  },
  {
   "cell_type": "code",
   "execution_count": 43,
   "metadata": {
    "ExecuteTime": {
     "end_time": "2024-05-06T03:41:00.710507Z",
     "start_time": "2024-05-06T03:40:59.817631Z"
    },
    "execution": {
     "iopub.execute_input": "2024-04-28T19:14:26.865377Z",
     "iopub.status.busy": "2024-04-28T19:14:26.864594Z",
     "iopub.status.idle": "2024-04-28T19:14:26.913656Z",
     "shell.execute_reply": "2024-04-28T19:14:26.912501Z",
     "shell.execute_reply.started": "2024-04-28T19:14:26.865336Z"
    }
   },
   "outputs": [
    {
     "name": "stdout",
     "output_type": "stream",
     "text": [
      "                            OLS Regression Results                            \n",
      "==============================================================================\n",
      "Dep. Variable:                applies   R-squared:                       0.818\n",
      "Model:                            OLS   Adj. R-squared:                  0.818\n",
      "Method:                 Least Squares   F-statistic:                     2635.\n",
      "Date:                Sun, 05 May 2024   Prob (F-statistic):               0.00\n",
      "Time:                        22:41:00   Log-Likelihood:                -23999.\n",
      "No. Observations:                5280   AIC:                         4.802e+04\n",
      "Df Residuals:                    5270   BIC:                         4.808e+04\n",
      "Df Model:                           9                                         \n",
      "Covariance Type:            nonrobust                                         \n",
      "=======================================================================================================\n",
      "                                          coef    std err          t      P>|t|      [0.025      0.975]\n",
      "-------------------------------------------------------------------------------------------------------\n",
      "const                                  -1.7499      0.494     -3.546      0.000      -2.717      -0.782\n",
      "views                                   0.2571      0.002    144.403      0.000       0.254       0.261\n",
      "application_type_OffsiteApply          -5.8198      0.534    -10.896      0.000      -6.867      -4.773\n",
      "pay_period_HOURLY                       2.0100      0.852      2.359      0.018       0.339       3.681\n",
      "sponsored                              -1.7607      0.689     -2.557      0.011      -3.111      -0.411\n",
      "remote_allowed                          1.4593      0.831      1.757      0.079      -0.169       3.088\n",
      "work_type_CONTRACT                      0.1312      1.150      0.114      0.909      -2.122       2.385\n",
      "location_Central Plains                -0.5861      3.720     -0.158      0.875      -7.878       6.706\n",
      "application_type_ComplexOnsiteApply     2.5964      0.541      4.795      0.000       1.535       3.658\n",
      "application_type_SimpleOnsiteApply      1.4735      1.136      1.297      0.195      -0.754       3.701\n",
      "location_Midwest                       -0.5323      1.239     -0.430      0.668      -2.961       1.897\n",
      "==============================================================================\n",
      "Omnibus:                     3666.320   Durbin-Watson:                   2.016\n",
      "Prob(Omnibus):                  0.000   Jarque-Bera (JB):          1307893.274\n",
      "Skew:                           2.151   Prob(JB):                         0.00\n",
      "Kurtosis:                      79.983   Cond. No.                     2.11e+18\n",
      "==============================================================================\n",
      "\n",
      "Notes:\n",
      "[1] Standard Errors assume that the covariance matrix of the errors is correctly specified.\n",
      "[2] The smallest eigenvalue is 5.21e-29. This might indicate that there are\n",
      "strong multicollinearity problems or that the design matrix is singular.\n",
      "Mean Absolute Error (MAE): 9.948353420851824\n",
      "Mean Squared Error (MSE): 458.70646347710016\n",
      "Root Mean Squared Error (RMSE): 21.41743363424059\n",
      "R-squared: 0.7663728065435821\n"
     ]
    }
   ],
   "source": [
    "from sklearn.model_selection import train_test_split\n",
    "from sklearn.metrics import mean_absolute_error, mean_squared_error, r2_score\n",
    "from math import sqrt\n",
    "\n",
    "# Defining dependent variable\n",
    "Y = numeric_final_data['applies']\n",
    "\n",
    "# Defining independent variables\n",
    "X = numeric_final_data[['views', 'application_type_OffsiteApply', 'pay_period_HOURLY', 'sponsored', 'remote_allowed', 'work_type_CONTRACT', 'location_Central Plains', 'application_type_ComplexOnsiteApply', 'application_type_SimpleOnsiteApply', 'location_Midwest']]\n",
    "\n",
    "# Splitting the data into training and testing sets\n",
    "X_train, X_test, Y_train, Y_test = train_test_split(X, Y, test_size=0.2, random_state=42)\n",
    "\n",
    "# Adding a constant to the independent variables matrix\n",
    "X_train = sm.add_constant(X_train)\n",
    "X_test = sm.add_constant(X_test)\n",
    "\n",
    "# Running the OLS model\n",
    "model = sm.OLS(Y_train, X_train)\n",
    "results = model.fit()\n",
    "\n",
    "# Print the summary\n",
    "print(results.summary())\n",
    "\n",
    "# Make predictions on the testing data\n",
    "Y_pred = results.predict(X_test)\n",
    "\n",
    "# Calculate metrics\n",
    "mae = mean_absolute_error(Y_test, Y_pred)\n",
    "mse = mean_squared_error(Y_test, Y_pred)\n",
    "rmse = sqrt(mse)  # or mse**(0.5)  \n",
    "r2 = r2_score(Y_test, Y_pred)\n",
    "\n",
    "# Print metrics\n",
    "print(f'Mean Absolute Error (MAE): {mae}')\n",
    "print(f'Mean Squared Error (MSE): {mse}')\n",
    "print(f'Root Mean Squared Error (RMSE): {rmse}')\n",
    "print(f'R-squared: {r2}')"
   ]
  },
  {
   "cell_type": "markdown",
   "metadata": {},
   "source": [
    "## STEP 4: Next we check if the model is following the Multiple Linear Regressor properties so that the results are reliable, and if yes we finalize the OLS model"
   ]
  },
  {
   "cell_type": "code",
   "execution_count": 44,
   "metadata": {
    "ExecuteTime": {
     "end_time": "2024-05-06T03:41:04.423653Z",
     "start_time": "2024-05-06T03:41:00.720495Z"
    }
   },
   "outputs": [
    {
     "name": "stdout",
     "output_type": "stream",
     "text": [
      "                             variables       VIF\n",
      "0                                views  1.123125\n",
      "1        application_type_OffsiteApply  1.518158\n",
      "2                    pay_period_HOURLY  1.417559\n",
      "3                            sponsored  1.048108\n",
      "4                       remote_allowed  1.148788\n",
      "5                   work_type_CONTRACT  1.486379\n",
      "6              location_Central Plains  1.003374\n",
      "7  application_type_ComplexOnsiteApply  2.023505\n",
      "8   application_type_SimpleOnsiteApply  1.061725\n",
      "9                     location_Midwest  1.012128\n"
     ]
    },
    {
     "data": {
      "image/png": "[encoded data removed]",
      "text/plain": [
       "<Figure size 1200x800 with 2 Axes>"
      ]
     },
     "metadata": {},
     "output_type": "display_data"
    }
   ],
   "source": [
    "import seaborn as sns\n",
    "import matplotlib.pyplot as plt\n",
    "from statsmodels.stats.outliers_influence import variance_inflation_factor\n",
    "\n",
    "\n",
    "\n",
    "# Calculate and print VIF\n",
    "vif = pd.DataFrame()\n",
    "vif[\"variables\"] = X.columns\n",
    "vif[\"VIF\"] = [variance_inflation_factor(X.values, i) for i in range(X.shape[1])]\n",
    "\n",
    "print(vif)\n",
    "\n",
    "# Also, we can plot a correlation matrix to visualize the correlation between the variables\n",
    "plt.figure(figsize=(12, 8))\n",
    "sns.heatmap(X.corr(), annot=True, cmap='coolwarm')\n",
    "plt.show()"
   ]
  },
  {
   "cell_type": "markdown",
   "metadata": {},
   "source": [
    "**Assumption MLR.1. Linear in Parameters** (Satisfied)\n",
    "\n",
    "This is satisfied by construction as the model is specified as linear in parameters.\n",
    "\n",
    "**Assumption MLR.2. Random Sampling** (Satisfied)\n",
    "\n",
    "This is more of a study design issue. We assume that the data we are working with is a random sample since this data has been collected trough web sccraping.\n",
    "\n",
    "**Assumption MLR.3. No Perfect Collinearity** (Satisfied)\n",
    "\n",
    "We can check this by looking at the Variance Inflation Factor (VIF) for each of the independent variables.\n",
    "VIF starts at 1 and has no upper limit.\n",
    "VIF = 1, no correlation between the independent variable and the other variables.\n",
    "VIF exceeding 5 or 10 indicates high multicollinearity between this independent variable and the others."
   ]
  },
  {
   "cell_type": "code",
   "execution_count": 45,
   "metadata": {
    "ExecuteTime": {
     "end_time": "2024-05-06T03:41:05.563390Z",
     "start_time": "2024-05-06T03:41:04.468120Z"
    }
   },
   "outputs": [
    {
     "data": {
      "image/png": "[encoded data removed]",
      "text/plain": [
       "<Figure size 1000x600 with 1 Axes>"
      ]
     },
     "metadata": {},
     "output_type": "display_data"
    }
   ],
   "source": [
    "import statsmodels.stats.api as sms\n",
    "import scipy.stats as stats\n",
    "\n",
    "# Calculate residuals\n",
    "residuals = Y_test - Y_pred\n",
    "\n",
    "# Check for Zero Conditional Mean\n",
    "plt.figure(figsize=(10, 6))\n",
    "plt.scatter(Y_pred, residuals)\n",
    "plt.axhline(y=0, color='r', linestyle='--')\n",
    "plt.title('Residuals vs Predicted Values')\n",
    "plt.show()\n",
    "\n",
    "\n"
   ]
  },
  {
   "cell_type": "markdown",
   "metadata": {},
   "source": [
    "**MLR.4 Zero conditional mean is reasonably satisfied to have zero conditional mean of the residuals, although there is a slight variation from zero.**"
   ]
  },
  {
   "cell_type": "code",
   "execution_count": 46,
   "metadata": {
    "ExecuteTime": {
     "end_time": "2024-05-06T03:41:07.891177Z",
     "start_time": "2024-05-06T03:41:05.571383Z"
    }
   },
   "outputs": [
    {
     "name": "stdout",
     "output_type": "stream",
     "text": [
      "{'LM Statistic': 512.7098267170182, 'LM-Test p-value': 8.480742570175297e-104, 'F-Statistic': 92.44230406410352, 'F-Test p-value': 3.0982357131544496e-133}\n"
     ]
    },
    {
     "data": {
      "image/png": "[encoded data removed]",
      "text/plain": [
       "<Figure size 1000x600 with 1 Axes>"
      ]
     },
     "metadata": {},
     "output_type": "display_data"
    }
   ],
   "source": [
    "# Breusch-Pagan Test for Homoskedasticity\n",
    "bp_test = sms.het_breuschpagan(residuals, X_test)\n",
    "labels = ['LM Statistic', 'LM-Test p-value', 'F-Statistic', 'F-Test p-value']\n",
    "print(dict(zip(labels, bp_test)))\n",
    "\n",
    "# Histogram for Normality\n",
    "plt.figure(figsize=(10, 6))\n",
    "sns.histplot(residuals, kde=True)\n",
    "plt.title('Distribution of Residuals')\n",
    "plt.show()"
   ]
  },
  {
   "cell_type": "markdown",
   "metadata": {},
   "source": [
    "**Breusch-Pagan test indicates heteroscedasticity is present & MLR.5 Homoskedasticity assumption is not satisfied. We adjusted our standard errors to remain robust against heteroscedasticity using the heteroskedasticity-robust standard errors method, This method is also known as White Standard Errors Method (Economist Halbert White)**"
   ]
  },
  {
   "cell_type": "code",
   "execution_count": 47,
   "metadata": {
    "ExecuteTime": {
     "end_time": "2024-05-06T03:41:09.029993Z",
     "start_time": "2024-05-06T03:41:07.906144Z"
    }
   },
   "outputs": [
    {
     "data": {
      "image/png": "[encoded data removed]",
      "text/plain": [
       "<Figure size 1000x600 with 1 Axes>"
      ]
     },
     "metadata": {},
     "output_type": "display_data"
    }
   ],
   "source": [
    "# Q-Q Plot for Normality\n",
    "plt.figure(figsize=(10, 6))\n",
    "stats.probplot(residuals, dist=\"norm\", plot=plt)\n",
    "plt.title('Q-Q Plot')\n",
    "plt.show()"
   ]
  },
  {
   "cell_type": "markdown",
   "metadata": {},
   "source": [
    "**MLR.6 Normality assumption is satisfied because our histogram is almost having a bell shape and the distribution of residuals is almost symmetric and  not deviating from the expected normal distribution.**"
   ]
  },
  {
   "cell_type": "markdown",
   "metadata": {
    "ExecuteTime": {
     "end_time": "2024-05-05T01:57:04.454455Z",
     "start_time": "2024-05-05T01:57:04.446338Z"
    }
   },
   "source": [
    "**Coclusion:  The model satisfies all the Multiple Resgressor Properties, thus we can say it is a reliable model and unlikely to have biases. Before finalizing this model, we compare it with various other models in the next steps.**"
   ]
  },
  {
   "cell_type": "markdown",
   "metadata": {},
   "source": [
    "## Step 5: Now we build various machine learning models and see which model gives us the most reliable results and based on that we finalize our final model and proceed with answering the question."
   ]
  },
  {
   "cell_type": "code",
   "execution_count": 49,
   "metadata": {
    "ExecuteTime": {
     "end_time": "2024-05-06T04:16:47.114912Z",
     "start_time": "2024-05-06T04:16:33.662614Z"
    }
   },
   "outputs": [
    {
     "name": "stdout",
     "output_type": "stream",
     "text": [
      "Model: LinearRegression\n",
      "Mean Absolute Error (MAE): 9.948353420851847\n",
      "Mean Squared Error (MSE): 458.7064634770995\n",
      "Root Mean Squared Error (RMSE): 21.417433634240577\n",
      "R-squared: 0.7663728065435824\n",
      "\n",
      "Model: Lasso\n",
      "Mean Absolute Error (MAE): 9.429291592861537\n",
      "Mean Squared Error (MSE): 466.07017993665454\n",
      "Root Mean Squared Error (RMSE): 21.588658595120137\n",
      "R-squared: 0.7626223374596852\n",
      "\n",
      "Model: DecisionTreeRegressor\n",
      "Mean Absolute Error (MAE): 11.089248904943775\n",
      "Mean Squared Error (MSE): 985.2299049667563\n",
      "Root Mean Squared Error (RMSE): 31.388372129926655\n",
      "R-squared: 0.49820524467450056\n",
      "\n",
      "Model: RandomForestRegressor\n",
      "Mean Absolute Error (MAE): 9.219951723573129\n",
      "Mean Squared Error (MSE): 571.9674826040222\n",
      "Root Mean Squared Error (RMSE): 23.91584166622664\n",
      "R-squared: 0.708686996262957\n",
      "\n",
      "Model: SVR\n",
      "Mean Absolute Error (MAE): 9.706059874066039\n",
      "Mean Squared Error (MSE): 855.8482363463286\n",
      "Root Mean Squared Error (RMSE): 29.25488397424144\n",
      "R-squared: 0.5641015825969502\n",
      "\n"
     ]
    }
   ],
   "source": [
    "# Import necessary libraries\n",
    "from sklearn.linear_model import LinearRegression, Lasso\n",
    "from sklearn.tree import DecisionTreeRegressor\n",
    "from sklearn.ensemble import RandomForestRegressor, GradientBoostingRegressor\n",
    "from sklearn.svm import SVR\n",
    "from sklearn.metrics import mean_absolute_error, mean_squared_error, r2_score\n",
    "from math import sqrt\n",
    "import xgboost as xgb\n",
    "from sklearn.model_selection import GridSearchCV\n",
    "\n",
    "# Define a list of models to be evaluated\n",
    "models = [\n",
    "    LinearRegression(),  # OLS model\n",
    "    Lasso(),  # Lasso regression model\n",
    "    DecisionTreeRegressor(),  # Decision tree regressor\n",
    "    RandomForestRegressor(),  # Random forest regressor\n",
    "    SVR(),  # Support vector regressor\n",
    "    \n",
    "]\n",
    "\n",
    "# Define the parameter grid for the grid search\n",
    "param_grid = {\n",
    "    'colsample_bytree': [0.3, 0.7],  # Subsample ratio of columns when constructing each tree\n",
    "    'learning_rate': [0.01, 0.1, 0.2],  # Step size shrinkage used in update to prevents overfitting\n",
    "    'max_depth': [4, 5, 6],  # Maximum depth of a tree\n",
    "    'alpha': [5, 10, 15],  # L1 regularization term on weights\n",
    "    'n_estimators': [10, 50, 100, 200]  # Number of gradient boosted trees\n",
    "}\n",
    "\n",
    "# Initialize the grid search model\n",
    "grid = GridSearchCV(xgb.XGBRegressor(objective ='reg:squarederror'), param_grid, verbose=3)\n",
    "\n",
    "# Loop over each model in the list\n",
    "for model in models:\n",
    "    # If the model is XGBoost, perform grid search\n",
    "    if model.__class__.__name__ == 'XGBRegressor':\n",
    "        # Fit the grid search model\n",
    "        grid.fit(X_train, Y_train)\n",
    "        # Print the best parameters found by the grid search\n",
    "        print(\"Best parameters found: \",grid.best_params_)\n",
    "        # Get the best estimator found by the grid search\n",
    "        model = grid.best_estimator_\n",
    "    \n",
    "    # Train the model on the training data\n",
    "    model.fit(X_train, Y_train)\n",
    "    # Use the trained model to make predictions on the test data\n",
    "    Y_pred = model.predict(X_test)\n",
    "    \n",
    "    # Calculate the mean absolute error of the predictions\n",
    "    mae = mean_absolute_error(Y_test, Y_pred)\n",
    "    # Calculate the mean squared error of the predictions\n",
    "    mse = mean_squared_error(Y_test, Y_pred)\n",
    "    # Calculate the root mean squared error of the predictions\n",
    "    rmse = sqrt(mse)\n",
    "    # Calculate the R-squared score of the predictions\n",
    "    r2 = r2_score(Y_test, Y_pred)\n",
    "    \n",
    "    # Print the model name and performance metrics\n",
    "    print(f'Model: {model.__class__.__name__}')\n",
    "    print(f'Mean Absolute Error (MAE): {mae}')\n",
    "    print(f'Mean Squared Error (MSE): {mse}')\n",
    "    print(f'Root Mean Squared Error (RMSE): {rmse}')\n",
    "    print(f'R-squared: {r2}\\n')"
   ]
  },
  {
   "cell_type": "markdown",
   "metadata": {},
   "source": [
    "**Analysis**\n",
    "\n",
    "The performance of the Decision Tree Regressor and SVR models is notably weaker compared to others, with both showing higher error rates and significantly lower R-squared values. This suggests that these models are less effective at accurately predicting and modeling the variability in the dependent variable.\n",
    "\n",
    "The Random Forest Regressor, while improving upon the Decision Tree in terms of error metrics and the R-squared value, does not emerge as the top model among those listed. It offers better predictability and consistency than the Decision Tree, but there are still better options.\n",
    "\n",
    "Lasso Regression provides a slightly better mean absolute error (MAE) than Linear Regression, suggesting it can predict with less deviation on average. However, it falls behind in mean squared error (MSE), root mean squared error (RMSE), and R-squared, indicating that while it might simplify the model, it does so at the cost of some accuracy.\n",
    "\n",
    "Linear Regression stands out for its balanced performance. It shows relatively low error rates across the board and the highest R-squared value, meaning it captures a substantial portion of the variance in the data. This indicates a strong ability to predict the dependent variable accurately across various scenarios.\n",
    "\n",
    "**Conclusion**\n",
    "\n",
    "Considering the overall analysis, Linear Regression is the standout model among those reviewed. It not only shows the highest capacity for explaining the variance in the dataset (as evidenced by its R-squared value) but also maintains favorable error metrics, balancing simplicity in the model with effective performance. While Lasso Regression also shows promise, it slightly underperforms on several key metrics, making Linear Regression the more preferable option for both its straightforwardness and strong predictive power.\n",
    "\n",
    "**Thus we finalize the linear regression model and proceed with interpriting our findings to answer our question.**"
   ]
  },
  {
   "cell_type": "markdown",
   "metadata": {},
   "source": [
    "## Step 6: The following is our final model & our findings:"
   ]
  },
  {
   "attachments": {
    "image.png": {
     "image/png": "[encoded data removed]"
    }
   },
   "cell_type": "markdown",
   "metadata": {},
   "source": [
    "![image.png](attachment:image.png)"
   ]
  },
  {
   "cell_type": "markdown",
   "metadata": {},
   "source": [
    "**Now finally let's try to understand how various significant factors influence the no of application on linkedin and whay could be the possible reason behind it:** \n",
    "\n",
    "1. **Views**:\n",
    "\n",
    "   - **Interpretation**: A 1% increase in views increases applications by about 0.92%.\n",
    "   - **Explanation**: This is quite straight forward - More views mean higher exposure, which naturally leads to more people considering and applying for the job. This relationship underscores the importance of job visibility in the recruitment process.\n",
    "\n",
    "\n",
    "2. **Application Type**:\n",
    "\n",
    "   - **Offsite Apply**:\n",
    "     - **Interpretation**: Using Offsite Apply decreases applications by about 65% thats hudge!.\n",
    "     - **Explanation**: This significant drop likely results from the inconvenience of navigating away from the familiar platform to complete the application process, which can deter potential applicants. While I did expect this, I did not expect the magnitude to be so high.\n",
    "     \n",
    "   - **Simple Onsite Apply**:\n",
    "     - **Interpretation**: Using Simple Onsite Apply decreases applications by about 16.29%.\n",
    "     - **Explanation**: Although simpler than offsite applications, even minimal complexity or additional steps required onsite can dissuade some job seekers, indicating a preference for utmost simplicity.Or maybe this could also include the percentage of people who in general don't find a job worth applying after reading the description.\n",
    "     \n",
    "   - **Complex Onsite Apply**:\n",
    "     - **Interpretation**: Complex Onsite Apply decreases applications by about 27.54%.\n",
    "     - **Explanation**: Complexity within the application process, even when onsite, significantly reduces applicant numbers. Job seekers favor straightforward processes, and perceived hurdles can be a major turn-off. This was quite interesting!\n",
    "\n",
    "3. **Pay Period**:\n",
    "\n",
    "   - **Interpretation**: Hourly jobs increase applications by about 14.27%.\n",
    "   - **Explanation**: Hourly roles often appeal to a broader demographic, including those seeking part-time work or more flexible schedules, which can explain the higher application rates.\n",
    "\n",
    "4. **Sponsorship**:\n",
    "\n",
    "   - **Interpretation**: Offering sponsorship decreases applications by about 10.08%.\n",
    "   - **Explanation**: While seemingly counterintuitive, this decrease can reflect the specialized nature of such roles. Sponsored positions often require specific qualifications or visas, narrowing the pool of eligible applicants. Or maybe this is because it actually increases the competition for people who do not need sponsorship, so they choose not to apply to escape this competition.\n",
    "\n",
    "5. **Type of Work**:\n",
    "\n",
    "   - **Interpretation**: Remote jobs increase applications by about 25.77%.\n",
    "   - **Explanation**: The option to work remotely is highly attractive to americans, reflecting current work trends towards flexibility and the desire to maintain a work-life balance, which draws a larger number of applicants.\n",
    "\n",
    "6. **Location**:\n",
    "\n",
    "   - **Midwest and Central Plains**:\n",
    "     - **Interpretation**: Jobs in these regions see fewer applications by about 10.39% and 21.92%, respectively.\n",
    "     - **Explanation**: These areas might be less appealing due to economic factors, lower population densities, or fewer industry hubs in the cental plains, which can limit the number of local job seekers. I definitely think there might be something we are not accounting for here because the west cost is literally the tech hub. But again the taxes are much higher there too. I'd do more research before choosing this to make any decisions. \n",
    "     \n",
    "   - **Northeast and South**:\n",
    "     - **Interpretation**: Jobs in these regions attract more applications, by about 6.03% and 5.39% respectively.\n",
    "     - **Explanation**: Higher population densities and potentially more vibrant economic conditions make these regions more attractive for job seekers, reflecting in higher application numbers. But again there might be more to the picture and making any direct inferences for this feature is hard at the moment.\n",
    "\n",
    "Understanding these factors could help organizations tailor their recruitment strategies effectively. By knowing what deters or attracts applicants, companies can adjust how they present job openings, where they post them, and the nature of the application process to maximize their reach and appeal to the ideal candidate pool.\n",
    "\n",
    "Note: The coefficients are interpreted by controlling for all other variables. "
   ]
  }
 ],
 "metadata": {
  "kaggle": {
   "accelerator": "none",
   "dataSources": [
    {
     "datasetId": 3680745,
     "sourceId": 6893293,
     "sourceType": "datasetVersion"
    },
    {
     "datasetId": 4899325,
     "sourceId": 8255778,
     "sourceType": "datasetVersion"
    }
   ],
   "dockerImageVersionId": 30698,
   "isGpuEnabled": false,
   "isInternetEnabled": true,
   "language": "python",
   "sourceType": "notebook"
  },
  "kernelspec": {
   "display_name": "Python 3 (ipykernel)",
   "language": "python",
   "name": "python3"
  },
  "language_info": {
   "codemirror_mode": {
    "name": "ipython",
    "version": 3
   },
   "file_extension": ".py",
   "mimetype": "text/x-python",
   "name": "python",
   "nbconvert_exporter": "python",
   "pygments_lexer": "ipython3",
   "version": "3.11.5"
  },
  "varInspector": {
   "cols": {
    "lenName": 16,
    "lenType": 16,
    "lenVar": 40
   },
   "kernels_config": {
    "python": {
     "delete_cmd_postfix": "",
     "delete_cmd_prefix": "del ",
     "library": "var_list.py",
     "varRefreshCmd": "print(var_dic_list())"
    },
    "r": {
     "delete_cmd_postfix": ") ",
     "delete_cmd_prefix": "rm(",
     "library": "var_list.r",
     "varRefreshCmd": "cat(var_dic_list()) "
    }
   },
   "types_to_exclude": [
    "module",
    "function",
    "builtin_function_or_method",
    "instance",
    "_Feature"
   ],
   "window_display": false
  }
 },
 "nbformat": 4,
 "nbformat_minor": 4
}
